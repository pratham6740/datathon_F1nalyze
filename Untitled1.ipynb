{
 "cells": [
  {
   "cell_type": "code",
   "execution_count": 2,
   "id": "09abe383-5157-40bb-baf7-17cbe183c1e9",
   "metadata": {},
   "outputs": [],
   "source": [
    "import pandas as pd\n",
    "import numpy as np\n",
    "\n",
    "df= pd.read_csv('yt_predicted_RF_up.csv',low_memory=False)"
   ]
  },
  {
   "cell_type": "code",
   "execution_count": 3,
   "id": "24382274-620a-4673-8c1c-a8f6229ab410",
   "metadata": {},
   "outputs": [
    {
     "data": {
      "text/html": [
       "<div>\n",
       "<style scoped>\n",
       "    .dataframe tbody tr th:only-of-type {\n",
       "        vertical-align: middle;\n",
       "    }\n",
       "\n",
       "    .dataframe tbody tr th {\n",
       "        vertical-align: top;\n",
       "    }\n",
       "\n",
       "    .dataframe thead th {\n",
       "        text-align: right;\n",
       "    }\n",
       "</style>\n",
       "<table border=\"1\" class=\"dataframe\">\n",
       "  <thead>\n",
       "    <tr style=\"text-align: right;\">\n",
       "      <th></th>\n",
       "      <th>0</th>\n",
       "    </tr>\n",
       "  </thead>\n",
       "  <tbody>\n",
       "    <tr>\n",
       "      <th>0</th>\n",
       "      <td>5</td>\n",
       "    </tr>\n",
       "    <tr>\n",
       "      <th>1</th>\n",
       "      <td>4</td>\n",
       "    </tr>\n",
       "    <tr>\n",
       "      <th>2</th>\n",
       "      <td>6</td>\n",
       "    </tr>\n",
       "    <tr>\n",
       "      <th>3</th>\n",
       "      <td>5</td>\n",
       "    </tr>\n",
       "    <tr>\n",
       "      <th>4</th>\n",
       "      <td>6</td>\n",
       "    </tr>\n",
       "  </tbody>\n",
       "</table>\n",
       "</div>"
      ],
      "text/plain": [
       "   0\n",
       "0  5\n",
       "1  4\n",
       "2  6\n",
       "3  5\n",
       "4  6"
      ]
     },
     "execution_count": 3,
     "metadata": {},
     "output_type": "execute_result"
    }
   ],
   "source": [
    "df.head()"
   ]
  },
  {
   "cell_type": "code",
   "execution_count": 4,
   "id": "0bfccc7b-787b-4f0d-8c82-38e40e473108",
   "metadata": {},
   "outputs": [],
   "source": [
    "Tdf= pd.read_csv('processed_test_up.csv',low_memory=False)"
   ]
  },
  {
   "cell_type": "code",
   "execution_count": 5,
   "id": "3dee4a5b-b1ae-4763-ba5c-6edb8c8ed7e7",
   "metadata": {},
   "outputs": [],
   "source": [
    "df_joined = df.join(Tdf)"
   ]
  },
  {
   "cell_type": "code",
   "execution_count": 7,
   "id": "b81033e4-2b2d-422e-9b56-cdcde0d67636",
   "metadata": {},
   "outputs": [
    {
     "name": "stdout",
     "output_type": "stream",
     "text": [
      "<class 'pandas.core.frame.DataFrame'>\n",
      "RangeIndex: 352928 entries, 0 to 352927\n",
      "Data columns (total 19 columns):\n",
      " #   Column                  Non-Null Count   Dtype  \n",
      "---  ------                  --------------   -----  \n",
      " 0   0                       352928 non-null  int64  \n",
      " 1   constructorId           352928 non-null  int64  \n",
      " 2   grid                    352928 non-null  int64  \n",
      " 3   positionOrder           352928 non-null  int64  \n",
      " 4   points                  352928 non-null  float64\n",
      " 5   laps                    352928 non-null  int64  \n",
      " 6   timetaken_in_millisec   352928 non-null  float64\n",
      " 7   rank                    352928 non-null  int64  \n",
      " 8   max_speed               352928 non-null  float64\n",
      " 9   statusId                352928 non-null  int64  \n",
      " 10  round                   352928 non-null  int64  \n",
      " 11  circuitId               352928 non-null  int64  \n",
      " 12  grand_prix              352928 non-null  int64  \n",
      " 13  driverStandingsId       352928 non-null  int64  \n",
      " 14  raceId_y                352928 non-null  int64  \n",
      " 15  points_y                352928 non-null  float64\n",
      " 16  wins                    352928 non-null  int64  \n",
      " 17  result_driver_standing  352928 non-null  int64  \n",
      " 18  age                     352928 non-null  int64  \n",
      "dtypes: float64(4), int64(15)\n",
      "memory usage: 51.2 MB\n"
     ]
    }
   ],
   "source": [
    "df_joined.info()"
   ]
  },
  {
   "cell_type": "code",
   "execution_count": 10,
   "id": "123ebb22-009f-4489-91e3-fe8dda757101",
   "metadata": {},
   "outputs": [],
   "source": [
    "df_joined.rename(columns={'0': 'position'}, inplace=True)"
   ]
  },
  {
   "cell_type": "code",
   "execution_count": 11,
   "id": "d3de3268-14d1-4244-abdd-77de820f1615",
   "metadata": {},
   "outputs": [
    {
     "name": "stdout",
     "output_type": "stream",
     "text": [
      "<class 'pandas.core.frame.DataFrame'>\n",
      "RangeIndex: 352928 entries, 0 to 352927\n",
      "Data columns (total 19 columns):\n",
      " #   Column                  Non-Null Count   Dtype  \n",
      "---  ------                  --------------   -----  \n",
      " 0   position                352928 non-null  int64  \n",
      " 1   constructorId           352928 non-null  int64  \n",
      " 2   grid                    352928 non-null  int64  \n",
      " 3   positionOrder           352928 non-null  int64  \n",
      " 4   points                  352928 non-null  float64\n",
      " 5   laps                    352928 non-null  int64  \n",
      " 6   timetaken_in_millisec   352928 non-null  float64\n",
      " 7   rank                    352928 non-null  int64  \n",
      " 8   max_speed               352928 non-null  float64\n",
      " 9   statusId                352928 non-null  int64  \n",
      " 10  round                   352928 non-null  int64  \n",
      " 11  circuitId               352928 non-null  int64  \n",
      " 12  grand_prix              352928 non-null  int64  \n",
      " 13  driverStandingsId       352928 non-null  int64  \n",
      " 14  raceId_y                352928 non-null  int64  \n",
      " 15  points_y                352928 non-null  float64\n",
      " 16  wins                    352928 non-null  int64  \n",
      " 17  result_driver_standing  352928 non-null  int64  \n",
      " 18  age                     352928 non-null  int64  \n",
      "dtypes: float64(4), int64(15)\n",
      "memory usage: 51.2 MB\n"
     ]
    }
   ],
   "source": [
    "df_joined.info()"
   ]
  },
  {
   "cell_type": "code",
   "execution_count": 20,
   "id": "8b585849-c6da-461b-ba24-3bb40b20e53f",
   "metadata": {},
   "outputs": [],
   "source": [
    "extracted_columns = df_joined[['position', 'result_driver_standing']]"
   ]
  },
  {
   "cell_type": "code",
   "execution_count": 22,
   "id": "ec105271-df5e-42b7-a7d2-b72f919fa029",
   "metadata": {},
   "outputs": [
    {
     "data": {
      "text/html": [
       "<div>\n",
       "<style scoped>\n",
       "    .dataframe tbody tr th:only-of-type {\n",
       "        vertical-align: middle;\n",
       "    }\n",
       "\n",
       "    .dataframe tbody tr th {\n",
       "        vertical-align: top;\n",
       "    }\n",
       "\n",
       "    .dataframe thead th {\n",
       "        text-align: right;\n",
       "    }\n",
       "</style>\n",
       "<table border=\"1\" class=\"dataframe\">\n",
       "  <thead>\n",
       "    <tr style=\"text-align: right;\">\n",
       "      <th></th>\n",
       "      <th>position</th>\n",
       "      <th>result_driver_standing</th>\n",
       "    </tr>\n",
       "  </thead>\n",
       "  <tbody>\n",
       "    <tr>\n",
       "      <th>0</th>\n",
       "      <td>5</td>\n",
       "      <td>298739826</td>\n",
       "    </tr>\n",
       "    <tr>\n",
       "      <th>1</th>\n",
       "      <td>4</td>\n",
       "      <td>299218806</td>\n",
       "    </tr>\n",
       "    <tr>\n",
       "      <th>2</th>\n",
       "      <td>6</td>\n",
       "      <td>299697786</td>\n",
       "    </tr>\n",
       "    <tr>\n",
       "      <th>3</th>\n",
       "      <td>5</td>\n",
       "      <td>300176766</td>\n",
       "    </tr>\n",
       "    <tr>\n",
       "      <th>4</th>\n",
       "      <td>6</td>\n",
       "      <td>300655746</td>\n",
       "    </tr>\n",
       "    <tr>\n",
       "      <th>5</th>\n",
       "      <td>6</td>\n",
       "      <td>301158675</td>\n",
       "    </tr>\n",
       "    <tr>\n",
       "      <th>6</th>\n",
       "      <td>6</td>\n",
       "      <td>301661604</td>\n",
       "    </tr>\n",
       "    <tr>\n",
       "      <th>7</th>\n",
       "      <td>6</td>\n",
       "      <td>302188482</td>\n",
       "    </tr>\n",
       "    <tr>\n",
       "      <th>8</th>\n",
       "      <td>6</td>\n",
       "      <td>302715360</td>\n",
       "    </tr>\n",
       "    <tr>\n",
       "      <th>9</th>\n",
       "      <td>5</td>\n",
       "      <td>303266187</td>\n",
       "    </tr>\n",
       "    <tr>\n",
       "      <th>10</th>\n",
       "      <td>5</td>\n",
       "      <td>303817014</td>\n",
       "    </tr>\n",
       "    <tr>\n",
       "      <th>11</th>\n",
       "      <td>5</td>\n",
       "      <td>304391790</td>\n",
       "    </tr>\n",
       "    <tr>\n",
       "      <th>12</th>\n",
       "      <td>4</td>\n",
       "      <td>304966566</td>\n",
       "    </tr>\n",
       "    <tr>\n",
       "      <th>13</th>\n",
       "      <td>4</td>\n",
       "      <td>305565291</td>\n",
       "    </tr>\n",
       "    <tr>\n",
       "      <th>14</th>\n",
       "      <td>4</td>\n",
       "      <td>306164016</td>\n",
       "    </tr>\n",
       "    <tr>\n",
       "      <th>15</th>\n",
       "      <td>8</td>\n",
       "      <td>290118186</td>\n",
       "    </tr>\n",
       "    <tr>\n",
       "      <th>16</th>\n",
       "      <td>5</td>\n",
       "      <td>290381625</td>\n",
       "    </tr>\n",
       "    <tr>\n",
       "      <th>17</th>\n",
       "      <td>3</td>\n",
       "      <td>290740860</td>\n",
       "    </tr>\n",
       "    <tr>\n",
       "      <th>18</th>\n",
       "      <td>4</td>\n",
       "      <td>291147993</td>\n",
       "    </tr>\n",
       "    <tr>\n",
       "      <th>19</th>\n",
       "      <td>3</td>\n",
       "      <td>291603024</td>\n",
       "    </tr>\n",
       "  </tbody>\n",
       "</table>\n",
       "</div>"
      ],
      "text/plain": [
       "    position  result_driver_standing\n",
       "0          5               298739826\n",
       "1          4               299218806\n",
       "2          6               299697786\n",
       "3          5               300176766\n",
       "4          6               300655746\n",
       "5          6               301158675\n",
       "6          6               301661604\n",
       "7          6               302188482\n",
       "8          6               302715360\n",
       "9          5               303266187\n",
       "10         5               303817014\n",
       "11         5               304391790\n",
       "12         4               304966566\n",
       "13         4               305565291\n",
       "14         4               306164016\n",
       "15         8               290118186\n",
       "16         5               290381625\n",
       "17         3               290740860\n",
       "18         4               291147993\n",
       "19         3               291603024"
      ]
     },
     "execution_count": 22,
     "metadata": {},
     "output_type": "execute_result"
    }
   ],
   "source": [
    "extracted_columns.head(20)"
   ]
  },
  {
   "cell_type": "code",
   "execution_count": 23,
   "id": "8f6f91a1-ccd2-4534-bdb3-c74ca12a2013",
   "metadata": {},
   "outputs": [],
   "source": [
    "extracted_columns.to_csv('yt_pred_rf.csv', index=False)"
   ]
  },
  {
   "cell_type": "code",
   "execution_count": null,
   "id": "20b175d0-7aa7-4d36-877a-794389e5735f",
   "metadata": {},
   "outputs": [],
   "source": []
  }
 ],
 "metadata": {
  "kernelspec": {
   "display_name": "Python 3 (ipykernel)",
   "language": "python",
   "name": "python3"
  },
  "language_info": {
   "codemirror_mode": {
    "name": "ipython",
    "version": 3
   },
   "file_extension": ".py",
   "mimetype": "text/x-python",
   "name": "python",
   "nbconvert_exporter": "python",
   "pygments_lexer": "ipython3",
   "version": "3.11.5"
  }
 },
 "nbformat": 4,
 "nbformat_minor": 5
}
