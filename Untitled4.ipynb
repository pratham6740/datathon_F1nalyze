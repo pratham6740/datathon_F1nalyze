{
 "cells": [
  {
   "cell_type": "code",
   "execution_count": 4,
   "id": "b6ebfdcc-12d0-465a-978c-2c695587a89b",
   "metadata": {},
   "outputs": [],
   "source": [
    "import pandas as pd\n",
    "import numpy as np\n",
    "import seaborn as sns\n",
    "import matplotlib.pyplot as plt\n",
    "from sklearn.preprocessing import LabelEncoder"
   ]
  },
  {
   "cell_type": "code",
   "execution_count": 6,
   "id": "20a4bbf9-c0ed-473f-a9a6-309b937f2770",
   "metadata": {},
   "outputs": [],
   "source": [
    "df = pd.read_csv('train 2.csv',low_memory=False)\n"
   ]
  },
  {
   "cell_type": "code",
   "execution_count": 7,
   "id": "136b9557-cf72-40af-bc5b-3cc4918588a3",
   "metadata": {},
   "outputs": [
    {
     "data": {
      "text/plain": [
       "(2830101, 55)"
      ]
     },
     "execution_count": 7,
     "metadata": {},
     "output_type": "execute_result"
    }
   ],
   "source": [
    "df.shape"
   ]
  },
  {
   "cell_type": "code",
   "execution_count": 8,
   "id": "4a0f4283-3728-4862-913f-e2d393db30dd",
   "metadata": {},
   "outputs": [
    {
     "name": "stdout",
     "output_type": "stream",
     "text": [
      "<class 'pandas.core.frame.DataFrame'>\n",
      "RangeIndex: 2830101 entries, 0 to 2830100\n",
      "Data columns (total 55 columns):\n",
      " #   Column                  Dtype  \n",
      "---  ------                  -----  \n",
      " 0   resultId                int64  \n",
      " 1   racerId                 int64  \n",
      " 2   driverId                int64  \n",
      " 3   constructorId           int64  \n",
      " 4   number                  object \n",
      " 5   grid                    int64  \n",
      " 6   position_x              object \n",
      " 7   positionText_x          object \n",
      " 8   positionOrder           int64  \n",
      " 9   points                  float64\n",
      " 10  laps                    int64  \n",
      " 11  time_x                  object \n",
      " 12  timetaken_in_millisec   object \n",
      " 13  fastestLap              object \n",
      " 14  rank                    object \n",
      " 15  fastestLapTime          object \n",
      " 16  max_speed               object \n",
      " 17  statusId                int64  \n",
      " 18  year                    int64  \n",
      " 19  round                   int64  \n",
      " 20  circuitId               int64  \n",
      " 21  grand_prix              object \n",
      " 22  date                    object \n",
      " 23  time_y                  object \n",
      " 24  url_x                   object \n",
      " 25  fp1_date                object \n",
      " 26  fp1_time                object \n",
      " 27  fp2_date                object \n",
      " 28  fp2_time                object \n",
      " 29  fp3_date                object \n",
      " 30  fp3_time                object \n",
      " 31  quali_date              object \n",
      " 32  quali_time              object \n",
      " 33  sprint_date             object \n",
      " 34  sprint_time             object \n",
      " 35  driverRef               object \n",
      " 36  driver_num              object \n",
      " 37  driver_code             object \n",
      " 38  forename                object \n",
      " 39  surname                 object \n",
      " 40  dob                     object \n",
      " 41  nationality             object \n",
      " 42  url_y                   object \n",
      " 43  driverStandingsId       int64  \n",
      " 44  raceId_y                int64  \n",
      " 45  points_y                float64\n",
      " 46  position                int64  \n",
      " 47  positionText_y          object \n",
      " 48  wins                    int64  \n",
      " 49  constructorRef          object \n",
      " 50  company                 object \n",
      " 51  nationality_y           object \n",
      " 52  url                     object \n",
      " 53  status                  object \n",
      " 54  result_driver_standing  int64  \n",
      "dtypes: float64(2), int64(16), object(37)\n",
      "memory usage: 1.2+ GB\n"
     ]
    }
   ],
   "source": [
    "df.info()"
   ]
  },
  {
   "cell_type": "code",
   "execution_count": 9,
   "id": "0048361d-0452-43e7-9f51-1a4dfa69eff9",
   "metadata": {},
   "outputs": [
    {
     "data": {
      "text/plain": [
       "resultId                  0\n",
       "racerId                   0\n",
       "driverId                  0\n",
       "constructorId             0\n",
       "number                    0\n",
       "grid                      0\n",
       "position_x                0\n",
       "positionText_x            0\n",
       "positionOrder             0\n",
       "points                    0\n",
       "laps                      0\n",
       "time_x                    0\n",
       "timetaken_in_millisec     0\n",
       "fastestLap                0\n",
       "rank                      0\n",
       "fastestLapTime            0\n",
       "max_speed                 0\n",
       "statusId                  0\n",
       "year                      0\n",
       "round                     0\n",
       "circuitId                 0\n",
       "grand_prix                0\n",
       "date                      0\n",
       "time_y                    0\n",
       "url_x                     0\n",
       "fp1_date                  0\n",
       "fp1_time                  0\n",
       "fp2_date                  0\n",
       "fp2_time                  0\n",
       "fp3_date                  0\n",
       "fp3_time                  0\n",
       "quali_date                0\n",
       "quali_time                0\n",
       "sprint_date               0\n",
       "sprint_time               0\n",
       "driverRef                 0\n",
       "driver_num                0\n",
       "driver_code               0\n",
       "forename                  0\n",
       "surname                   0\n",
       "dob                       0\n",
       "nationality               0\n",
       "url_y                     0\n",
       "driverStandingsId         0\n",
       "raceId_y                  0\n",
       "points_y                  0\n",
       "position                  0\n",
       "positionText_y            0\n",
       "wins                      0\n",
       "constructorRef            0\n",
       "company                   0\n",
       "nationality_y             0\n",
       "url                       0\n",
       "status                    0\n",
       "result_driver_standing    0\n",
       "dtype: int64"
      ]
     },
     "execution_count": 9,
     "metadata": {},
     "output_type": "execute_result"
    }
   ],
   "source": [
    "df.isnull().sum()"
   ]
  },
  {
   "cell_type": "code",
   "execution_count": 10,
   "id": "302961e8-28bf-467b-9b66-a322a656dcf5",
   "metadata": {},
   "outputs": [
    {
     "data": {
      "text/html": [
       "<div>\n",
       "<style scoped>\n",
       "    .dataframe tbody tr th:only-of-type {\n",
       "        vertical-align: middle;\n",
       "    }\n",
       "\n",
       "    .dataframe tbody tr th {\n",
       "        vertical-align: top;\n",
       "    }\n",
       "\n",
       "    .dataframe thead th {\n",
       "        text-align: right;\n",
       "    }\n",
       "</style>\n",
       "<table border=\"1\" class=\"dataframe\">\n",
       "  <thead>\n",
       "    <tr style=\"text-align: right;\">\n",
       "      <th></th>\n",
       "      <th>resultId</th>\n",
       "      <th>racerId</th>\n",
       "      <th>driverId</th>\n",
       "      <th>constructorId</th>\n",
       "      <th>number</th>\n",
       "      <th>grid</th>\n",
       "      <th>position_x</th>\n",
       "      <th>positionText_x</th>\n",
       "      <th>positionOrder</th>\n",
       "      <th>points</th>\n",
       "      <th>...</th>\n",
       "      <th>points_y</th>\n",
       "      <th>position</th>\n",
       "      <th>positionText_y</th>\n",
       "      <th>wins</th>\n",
       "      <th>constructorRef</th>\n",
       "      <th>company</th>\n",
       "      <th>nationality_y</th>\n",
       "      <th>url</th>\n",
       "      <th>status</th>\n",
       "      <th>result_driver_standing</th>\n",
       "    </tr>\n",
       "  </thead>\n",
       "  <tbody>\n",
       "    <tr>\n",
       "      <th>0</th>\n",
       "      <td>20025</td>\n",
       "      <td>833</td>\n",
       "      <td>642</td>\n",
       "      <td>51</td>\n",
       "      <td>2</td>\n",
       "      <td>1</td>\n",
       "      <td>1</td>\n",
       "      <td>1</td>\n",
       "      <td>1</td>\n",
       "      <td>9.0</td>\n",
       "      <td>...</td>\n",
       "      <td>3.33</td>\n",
       "      <td>3</td>\n",
       "      <td>3</td>\n",
       "      <td>0</td>\n",
       "      <td>alfa</td>\n",
       "      <td>Alfa Romeo</td>\n",
       "      <td>Swiss</td>\n",
       "      <td>http://en.wikipedia.org/wiki/Alfa_Romeo_in_For...</td>\n",
       "      <td>Finished</td>\n",
       "      <td>922731975</td>\n",
       "    </tr>\n",
       "    <tr>\n",
       "      <th>1</th>\n",
       "      <td>20025</td>\n",
       "      <td>833</td>\n",
       "      <td>642</td>\n",
       "      <td>51</td>\n",
       "      <td>2</td>\n",
       "      <td>1</td>\n",
       "      <td>1</td>\n",
       "      <td>1</td>\n",
       "      <td>1</td>\n",
       "      <td>9.0</td>\n",
       "      <td>...</td>\n",
       "      <td>6.33</td>\n",
       "      <td>3</td>\n",
       "      <td>3</td>\n",
       "      <td>0</td>\n",
       "      <td>alfa</td>\n",
       "      <td>Alfa Romeo</td>\n",
       "      <td>Swiss</td>\n",
       "      <td>http://en.wikipedia.org/wiki/Alfa_Romeo_in_For...</td>\n",
       "      <td>Finished</td>\n",
       "      <td>923172525</td>\n",
       "    </tr>\n",
       "    <tr>\n",
       "      <th>2</th>\n",
       "      <td>20025</td>\n",
       "      <td>833</td>\n",
       "      <td>642</td>\n",
       "      <td>51</td>\n",
       "      <td>2</td>\n",
       "      <td>1</td>\n",
       "      <td>1</td>\n",
       "      <td>1</td>\n",
       "      <td>1</td>\n",
       "      <td>9.0</td>\n",
       "      <td>...</td>\n",
       "      <td>6.33</td>\n",
       "      <td>4</td>\n",
       "      <td>4</td>\n",
       "      <td>0</td>\n",
       "      <td>alfa</td>\n",
       "      <td>Alfa Romeo</td>\n",
       "      <td>Swiss</td>\n",
       "      <td>http://en.wikipedia.org/wiki/Alfa_Romeo_in_For...</td>\n",
       "      <td>Finished</td>\n",
       "      <td>923833350</td>\n",
       "    </tr>\n",
       "  </tbody>\n",
       "</table>\n",
       "<p>3 rows × 55 columns</p>\n",
       "</div>"
      ],
      "text/plain": [
       "   resultId  racerId  driverId  constructorId number  grid position_x  \\\n",
       "0     20025      833       642             51      2     1          1   \n",
       "1     20025      833       642             51      2     1          1   \n",
       "2     20025      833       642             51      2     1          1   \n",
       "\n",
       "  positionText_x  positionOrder  points  ...  points_y position  \\\n",
       "0              1              1     9.0  ...      3.33        3   \n",
       "1              1              1     9.0  ...      6.33        3   \n",
       "2              1              1     9.0  ...      6.33        4   \n",
       "\n",
       "  positionText_y wins constructorRef     company nationality_y  \\\n",
       "0              3    0           alfa  Alfa Romeo         Swiss   \n",
       "1              3    0           alfa  Alfa Romeo         Swiss   \n",
       "2              4    0           alfa  Alfa Romeo         Swiss   \n",
       "\n",
       "                                                 url    status  \\\n",
       "0  http://en.wikipedia.org/wiki/Alfa_Romeo_in_For...  Finished   \n",
       "1  http://en.wikipedia.org/wiki/Alfa_Romeo_in_For...  Finished   \n",
       "2  http://en.wikipedia.org/wiki/Alfa_Romeo_in_For...  Finished   \n",
       "\n",
       "   result_driver_standing  \n",
       "0               922731975  \n",
       "1               923172525  \n",
       "2               923833350  \n",
       "\n",
       "[3 rows x 55 columns]"
      ]
     },
     "execution_count": 10,
     "metadata": {},
     "output_type": "execute_result"
    }
   ],
   "source": [
    "df.head(3)"
   ]
  },
  {
   "cell_type": "code",
   "execution_count": 11,
   "id": "f57c8f72-8566-4ab3-be83-2160780b1663",
   "metadata": {},
   "outputs": [],
   "source": [
    "df.replace('\\\\N', pd.NA, inplace=True)\n"
   ]
  },
  {
   "cell_type": "code",
   "execution_count": 12,
   "id": "b517b155-d1c0-4c18-b285-6bfd55bb3ebf",
   "metadata": {},
   "outputs": [
    {
     "data": {
      "text/plain": [
       "resultId                        0\n",
       "racerId                         0\n",
       "driverId                        0\n",
       "constructorId                   0\n",
       "number                        160\n",
       "grid                            0\n",
       "position_x                1125357\n",
       "positionText_x                  0\n",
       "positionOrder                   0\n",
       "points                          0\n",
       "laps                            0\n",
       "time_x                    1871686\n",
       "timetaken_in_millisec     1871741\n",
       "fastestLap                2112010\n",
       "rank                      2105375\n",
       "fastestLapTime            2112010\n",
       "max_speed                 2112010\n",
       "statusId                        0\n",
       "year                            0\n",
       "round                           0\n",
       "circuitId                       0\n",
       "grand_prix                      0\n",
       "date                            0\n",
       "time_y                    2150026\n",
       "url_x                           0\n",
       "fp1_date                  2830101\n",
       "fp1_time                  2830101\n",
       "fp2_date                  2830101\n",
       "fp2_time                  2830101\n",
       "fp3_date                  2830101\n",
       "fp3_time                  2830101\n",
       "quali_date                2830101\n",
       "quali_time                2830101\n",
       "sprint_date               2830101\n",
       "sprint_time               2830101\n",
       "driverRef                       0\n",
       "driver_num                2354922\n",
       "driver_code               1731200\n",
       "forename                        0\n",
       "surname                         0\n",
       "dob                             0\n",
       "nationality                     0\n",
       "url_y                           0\n",
       "driverStandingsId               0\n",
       "raceId_y                        0\n",
       "points_y                        0\n",
       "position                        0\n",
       "positionText_y                  0\n",
       "wins                            0\n",
       "constructorRef                  0\n",
       "company                         0\n",
       "nationality_y                   0\n",
       "url                             0\n",
       "status                          0\n",
       "result_driver_standing          0\n",
       "dtype: int64"
      ]
     },
     "execution_count": 12,
     "metadata": {},
     "output_type": "execute_result"
    }
   ],
   "source": [
    "df.isna().sum()"
   ]
  },
  {
   "cell_type": "code",
   "execution_count": 28,
   "id": "e9fb5fee-efb5-4f98-b8c0-0c1de5cb57fc",
   "metadata": {},
   "outputs": [
    {
     "ename": "KeyError",
     "evalue": "\"['fp1_date', 'fp1_time', 'fp2_date', 'fp2_time', 'fp3_date', 'fp3_time', 'quali_date', 'quali_time', 'sprint_date', 'sprint_time'] not found in axis\"",
     "output_type": "error",
     "traceback": [
      "\u001b[0;31m---------------------------------------------------------------------------\u001b[0m",
      "\u001b[0;31mKeyError\u001b[0m                                  Traceback (most recent call last)",
      "Cell \u001b[0;32mIn[28], line 3\u001b[0m\n\u001b[1;32m      1\u001b[0m \u001b[38;5;66;03m## as column from fp1_date to sprint_time are blank so we can easily drop them\u001b[39;00m\n\u001b[1;32m      2\u001b[0m columns_to_drop \u001b[38;5;241m=\u001b[39m [\u001b[38;5;124m'\u001b[39m\u001b[38;5;124mfp1_date\u001b[39m\u001b[38;5;124m'\u001b[39m,\u001b[38;5;124m'\u001b[39m\u001b[38;5;124mfp1_time\u001b[39m\u001b[38;5;124m'\u001b[39m, \u001b[38;5;124m'\u001b[39m\u001b[38;5;124mfp2_date\u001b[39m\u001b[38;5;124m'\u001b[39m, \u001b[38;5;124m'\u001b[39m\u001b[38;5;124mfp2_time\u001b[39m\u001b[38;5;124m'\u001b[39m, \u001b[38;5;124m'\u001b[39m\u001b[38;5;124mfp3_date\u001b[39m\u001b[38;5;124m'\u001b[39m, \u001b[38;5;124m'\u001b[39m\u001b[38;5;124mfp3_time\u001b[39m\u001b[38;5;124m'\u001b[39m, \u001b[38;5;124m'\u001b[39m\u001b[38;5;124mquali_date\u001b[39m\u001b[38;5;124m'\u001b[39m, \u001b[38;5;124m'\u001b[39m\u001b[38;5;124mquali_time\u001b[39m\u001b[38;5;124m'\u001b[39m, \u001b[38;5;124m'\u001b[39m\u001b[38;5;124msprint_date\u001b[39m\u001b[38;5;124m'\u001b[39m,\u001b[38;5;124m'\u001b[39m\u001b[38;5;124msprint_time\u001b[39m\u001b[38;5;124m'\u001b[39m]\n\u001b[0;32m----> 3\u001b[0m df\u001b[38;5;241m.\u001b[39mdrop( columns_to_drop, axis\u001b[38;5;241m=\u001b[39m\u001b[38;5;241m1\u001b[39m, inplace\u001b[38;5;241m=\u001b[39m\u001b[38;5;28;01mTrue\u001b[39;00m)\n",
      "File \u001b[0;32m~/anaconda3/lib/python3.11/site-packages/pandas/core/frame.py:5258\u001b[0m, in \u001b[0;36mDataFrame.drop\u001b[0;34m(self, labels, axis, index, columns, level, inplace, errors)\u001b[0m\n\u001b[1;32m   5110\u001b[0m \u001b[38;5;28;01mdef\u001b[39;00m \u001b[38;5;21mdrop\u001b[39m(\n\u001b[1;32m   5111\u001b[0m     \u001b[38;5;28mself\u001b[39m,\n\u001b[1;32m   5112\u001b[0m     labels: IndexLabel \u001b[38;5;241m=\u001b[39m \u001b[38;5;28;01mNone\u001b[39;00m,\n\u001b[0;32m   (...)\u001b[0m\n\u001b[1;32m   5119\u001b[0m     errors: IgnoreRaise \u001b[38;5;241m=\u001b[39m \u001b[38;5;124m\"\u001b[39m\u001b[38;5;124mraise\u001b[39m\u001b[38;5;124m\"\u001b[39m,\n\u001b[1;32m   5120\u001b[0m ) \u001b[38;5;241m-\u001b[39m\u001b[38;5;241m>\u001b[39m DataFrame \u001b[38;5;241m|\u001b[39m \u001b[38;5;28;01mNone\u001b[39;00m:\n\u001b[1;32m   5121\u001b[0m \u001b[38;5;250m    \u001b[39m\u001b[38;5;124;03m\"\"\"\u001b[39;00m\n\u001b[1;32m   5122\u001b[0m \u001b[38;5;124;03m    Drop specified labels from rows or columns.\u001b[39;00m\n\u001b[1;32m   5123\u001b[0m \n\u001b[0;32m   (...)\u001b[0m\n\u001b[1;32m   5256\u001b[0m \u001b[38;5;124;03m            weight  1.0     0.8\u001b[39;00m\n\u001b[1;32m   5257\u001b[0m \u001b[38;5;124;03m    \"\"\"\u001b[39;00m\n\u001b[0;32m-> 5258\u001b[0m     \u001b[38;5;28;01mreturn\u001b[39;00m \u001b[38;5;28msuper\u001b[39m()\u001b[38;5;241m.\u001b[39mdrop(\n\u001b[1;32m   5259\u001b[0m         labels\u001b[38;5;241m=\u001b[39mlabels,\n\u001b[1;32m   5260\u001b[0m         axis\u001b[38;5;241m=\u001b[39maxis,\n\u001b[1;32m   5261\u001b[0m         index\u001b[38;5;241m=\u001b[39mindex,\n\u001b[1;32m   5262\u001b[0m         columns\u001b[38;5;241m=\u001b[39mcolumns,\n\u001b[1;32m   5263\u001b[0m         level\u001b[38;5;241m=\u001b[39mlevel,\n\u001b[1;32m   5264\u001b[0m         inplace\u001b[38;5;241m=\u001b[39minplace,\n\u001b[1;32m   5265\u001b[0m         errors\u001b[38;5;241m=\u001b[39merrors,\n\u001b[1;32m   5266\u001b[0m     )\n",
      "File \u001b[0;32m~/anaconda3/lib/python3.11/site-packages/pandas/core/generic.py:4549\u001b[0m, in \u001b[0;36mNDFrame.drop\u001b[0;34m(self, labels, axis, index, columns, level, inplace, errors)\u001b[0m\n\u001b[1;32m   4547\u001b[0m \u001b[38;5;28;01mfor\u001b[39;00m axis, labels \u001b[38;5;129;01min\u001b[39;00m axes\u001b[38;5;241m.\u001b[39mitems():\n\u001b[1;32m   4548\u001b[0m     \u001b[38;5;28;01mif\u001b[39;00m labels \u001b[38;5;129;01mis\u001b[39;00m \u001b[38;5;129;01mnot\u001b[39;00m \u001b[38;5;28;01mNone\u001b[39;00m:\n\u001b[0;32m-> 4549\u001b[0m         obj \u001b[38;5;241m=\u001b[39m obj\u001b[38;5;241m.\u001b[39m_drop_axis(labels, axis, level\u001b[38;5;241m=\u001b[39mlevel, errors\u001b[38;5;241m=\u001b[39merrors)\n\u001b[1;32m   4551\u001b[0m \u001b[38;5;28;01mif\u001b[39;00m inplace:\n\u001b[1;32m   4552\u001b[0m     \u001b[38;5;28mself\u001b[39m\u001b[38;5;241m.\u001b[39m_update_inplace(obj)\n",
      "File \u001b[0;32m~/anaconda3/lib/python3.11/site-packages/pandas/core/generic.py:4591\u001b[0m, in \u001b[0;36mNDFrame._drop_axis\u001b[0;34m(self, labels, axis, level, errors, only_slice)\u001b[0m\n\u001b[1;32m   4589\u001b[0m         new_axis \u001b[38;5;241m=\u001b[39m axis\u001b[38;5;241m.\u001b[39mdrop(labels, level\u001b[38;5;241m=\u001b[39mlevel, errors\u001b[38;5;241m=\u001b[39merrors)\n\u001b[1;32m   4590\u001b[0m     \u001b[38;5;28;01melse\u001b[39;00m:\n\u001b[0;32m-> 4591\u001b[0m         new_axis \u001b[38;5;241m=\u001b[39m axis\u001b[38;5;241m.\u001b[39mdrop(labels, errors\u001b[38;5;241m=\u001b[39merrors)\n\u001b[1;32m   4592\u001b[0m     indexer \u001b[38;5;241m=\u001b[39m axis\u001b[38;5;241m.\u001b[39mget_indexer(new_axis)\n\u001b[1;32m   4594\u001b[0m \u001b[38;5;66;03m# Case for non-unique axis\u001b[39;00m\n\u001b[1;32m   4595\u001b[0m \u001b[38;5;28;01melse\u001b[39;00m:\n",
      "File \u001b[0;32m~/anaconda3/lib/python3.11/site-packages/pandas/core/indexes/base.py:6699\u001b[0m, in \u001b[0;36mIndex.drop\u001b[0;34m(self, labels, errors)\u001b[0m\n\u001b[1;32m   6697\u001b[0m \u001b[38;5;28;01mif\u001b[39;00m mask\u001b[38;5;241m.\u001b[39many():\n\u001b[1;32m   6698\u001b[0m     \u001b[38;5;28;01mif\u001b[39;00m errors \u001b[38;5;241m!=\u001b[39m \u001b[38;5;124m\"\u001b[39m\u001b[38;5;124mignore\u001b[39m\u001b[38;5;124m\"\u001b[39m:\n\u001b[0;32m-> 6699\u001b[0m         \u001b[38;5;28;01mraise\u001b[39;00m \u001b[38;5;167;01mKeyError\u001b[39;00m(\u001b[38;5;124mf\u001b[39m\u001b[38;5;124m\"\u001b[39m\u001b[38;5;132;01m{\u001b[39;00m\u001b[38;5;28mlist\u001b[39m(labels[mask])\u001b[38;5;132;01m}\u001b[39;00m\u001b[38;5;124m not found in axis\u001b[39m\u001b[38;5;124m\"\u001b[39m)\n\u001b[1;32m   6700\u001b[0m     indexer \u001b[38;5;241m=\u001b[39m indexer[\u001b[38;5;241m~\u001b[39mmask]\n\u001b[1;32m   6701\u001b[0m \u001b[38;5;28;01mreturn\u001b[39;00m \u001b[38;5;28mself\u001b[39m\u001b[38;5;241m.\u001b[39mdelete(indexer)\n",
      "\u001b[0;31mKeyError\u001b[0m: \"['fp1_date', 'fp1_time', 'fp2_date', 'fp2_time', 'fp3_date', 'fp3_time', 'quali_date', 'quali_time', 'sprint_date', 'sprint_time'] not found in axis\""
     ]
    }
   ],
   "source": [
    "## as column from fp1_date to sprint_time are blank so we can easily drop them\n",
    "columns_to_drop = ['fp1_date','fp1_time', 'fp2_date', 'fp2_time', 'fp3_date', 'fp3_time', 'quali_date', 'quali_time', 'sprint_date','sprint_time']\n",
    "df.drop( columns_to_drop, axis=1, inplace=True)"
   ]
  },
  {
   "cell_type": "code",
   "execution_count": null,
   "id": "cbfe1cf2-d80d-4119-93c0-89408c55ec00",
   "metadata": {},
   "outputs": [],
   "source": [
    "df.head()"
   ]
  },
  {
   "cell_type": "code",
   "execution_count": 31,
   "id": "49d15371-f98d-4669-b013-dce6e9d0c49d",
   "metadata": {},
   "outputs": [
    {
     "data": {
      "text/plain": [
       "40589"
      ]
     },
     "execution_count": 31,
     "metadata": {},
     "output_type": "execute_result"
    }
   ],
   "source": [
    "df['result_driver_standing'].duplicated().sum()"
   ]
  },
  {
   "cell_type": "code",
   "execution_count": 33,
   "id": "23c90b2f-e43a-4bbd-967d-18275b83ce8b",
   "metadata": {},
   "outputs": [
    {
     "data": {
      "text/plain": [
       "0"
      ]
     },
     "execution_count": 33,
     "metadata": {},
     "output_type": "execute_result"
    }
   ],
   "source": [
    "df.duplicated().sum()"
   ]
  },
  {
   "cell_type": "code",
   "execution_count": 35,
   "id": "7b8fa5fe-f77e-434a-a43e-82e8dbc183ba",
   "metadata": {},
   "outputs": [
    {
     "ename": "KeyError",
     "evalue": "\"['url', 'url_x', 'url_y', 'driverRef', 'driver_num', 'driver_code', 'forename', 'surname'] not found in axis\"",
     "output_type": "error",
     "traceback": [
      "\u001b[0;31m---------------------------------------------------------------------------\u001b[0m",
      "\u001b[0;31mKeyError\u001b[0m                                  Traceback (most recent call last)",
      "Cell \u001b[0;32mIn[35], line 2\u001b[0m\n\u001b[1;32m      1\u001b[0m columns \u001b[38;5;241m=\u001b[39m[\u001b[38;5;124m'\u001b[39m\u001b[38;5;124murl\u001b[39m\u001b[38;5;124m'\u001b[39m, \u001b[38;5;124m'\u001b[39m\u001b[38;5;124murl_x\u001b[39m\u001b[38;5;124m'\u001b[39m, \u001b[38;5;124m'\u001b[39m\u001b[38;5;124murl_y\u001b[39m\u001b[38;5;124m'\u001b[39m, \u001b[38;5;124m'\u001b[39m\u001b[38;5;124mdriverRef\u001b[39m\u001b[38;5;124m'\u001b[39m,\u001b[38;5;124m'\u001b[39m\u001b[38;5;124mdriver_num\u001b[39m\u001b[38;5;124m'\u001b[39m, \u001b[38;5;124m'\u001b[39m\u001b[38;5;124mdriver_code\u001b[39m\u001b[38;5;124m'\u001b[39m, \u001b[38;5;124m'\u001b[39m\u001b[38;5;124mforename\u001b[39m\u001b[38;5;124m'\u001b[39m, \u001b[38;5;124m'\u001b[39m\u001b[38;5;124msurname\u001b[39m\u001b[38;5;124m'\u001b[39m]\n\u001b[0;32m----> 2\u001b[0m df\u001b[38;5;241m.\u001b[39mdrop(columns, axis\u001b[38;5;241m=\u001b[39m\u001b[38;5;241m1\u001b[39m, inplace \u001b[38;5;241m=\u001b[39m\u001b[38;5;28;01mTrue\u001b[39;00m)\n",
      "File \u001b[0;32m~/anaconda3/lib/python3.11/site-packages/pandas/core/frame.py:5258\u001b[0m, in \u001b[0;36mDataFrame.drop\u001b[0;34m(self, labels, axis, index, columns, level, inplace, errors)\u001b[0m\n\u001b[1;32m   5110\u001b[0m \u001b[38;5;28;01mdef\u001b[39;00m \u001b[38;5;21mdrop\u001b[39m(\n\u001b[1;32m   5111\u001b[0m     \u001b[38;5;28mself\u001b[39m,\n\u001b[1;32m   5112\u001b[0m     labels: IndexLabel \u001b[38;5;241m=\u001b[39m \u001b[38;5;28;01mNone\u001b[39;00m,\n\u001b[0;32m   (...)\u001b[0m\n\u001b[1;32m   5119\u001b[0m     errors: IgnoreRaise \u001b[38;5;241m=\u001b[39m \u001b[38;5;124m\"\u001b[39m\u001b[38;5;124mraise\u001b[39m\u001b[38;5;124m\"\u001b[39m,\n\u001b[1;32m   5120\u001b[0m ) \u001b[38;5;241m-\u001b[39m\u001b[38;5;241m>\u001b[39m DataFrame \u001b[38;5;241m|\u001b[39m \u001b[38;5;28;01mNone\u001b[39;00m:\n\u001b[1;32m   5121\u001b[0m \u001b[38;5;250m    \u001b[39m\u001b[38;5;124;03m\"\"\"\u001b[39;00m\n\u001b[1;32m   5122\u001b[0m \u001b[38;5;124;03m    Drop specified labels from rows or columns.\u001b[39;00m\n\u001b[1;32m   5123\u001b[0m \n\u001b[0;32m   (...)\u001b[0m\n\u001b[1;32m   5256\u001b[0m \u001b[38;5;124;03m            weight  1.0     0.8\u001b[39;00m\n\u001b[1;32m   5257\u001b[0m \u001b[38;5;124;03m    \"\"\"\u001b[39;00m\n\u001b[0;32m-> 5258\u001b[0m     \u001b[38;5;28;01mreturn\u001b[39;00m \u001b[38;5;28msuper\u001b[39m()\u001b[38;5;241m.\u001b[39mdrop(\n\u001b[1;32m   5259\u001b[0m         labels\u001b[38;5;241m=\u001b[39mlabels,\n\u001b[1;32m   5260\u001b[0m         axis\u001b[38;5;241m=\u001b[39maxis,\n\u001b[1;32m   5261\u001b[0m         index\u001b[38;5;241m=\u001b[39mindex,\n\u001b[1;32m   5262\u001b[0m         columns\u001b[38;5;241m=\u001b[39mcolumns,\n\u001b[1;32m   5263\u001b[0m         level\u001b[38;5;241m=\u001b[39mlevel,\n\u001b[1;32m   5264\u001b[0m         inplace\u001b[38;5;241m=\u001b[39minplace,\n\u001b[1;32m   5265\u001b[0m         errors\u001b[38;5;241m=\u001b[39merrors,\n\u001b[1;32m   5266\u001b[0m     )\n",
      "File \u001b[0;32m~/anaconda3/lib/python3.11/site-packages/pandas/core/generic.py:4549\u001b[0m, in \u001b[0;36mNDFrame.drop\u001b[0;34m(self, labels, axis, index, columns, level, inplace, errors)\u001b[0m\n\u001b[1;32m   4547\u001b[0m \u001b[38;5;28;01mfor\u001b[39;00m axis, labels \u001b[38;5;129;01min\u001b[39;00m axes\u001b[38;5;241m.\u001b[39mitems():\n\u001b[1;32m   4548\u001b[0m     \u001b[38;5;28;01mif\u001b[39;00m labels \u001b[38;5;129;01mis\u001b[39;00m \u001b[38;5;129;01mnot\u001b[39;00m \u001b[38;5;28;01mNone\u001b[39;00m:\n\u001b[0;32m-> 4549\u001b[0m         obj \u001b[38;5;241m=\u001b[39m obj\u001b[38;5;241m.\u001b[39m_drop_axis(labels, axis, level\u001b[38;5;241m=\u001b[39mlevel, errors\u001b[38;5;241m=\u001b[39merrors)\n\u001b[1;32m   4551\u001b[0m \u001b[38;5;28;01mif\u001b[39;00m inplace:\n\u001b[1;32m   4552\u001b[0m     \u001b[38;5;28mself\u001b[39m\u001b[38;5;241m.\u001b[39m_update_inplace(obj)\n",
      "File \u001b[0;32m~/anaconda3/lib/python3.11/site-packages/pandas/core/generic.py:4591\u001b[0m, in \u001b[0;36mNDFrame._drop_axis\u001b[0;34m(self, labels, axis, level, errors, only_slice)\u001b[0m\n\u001b[1;32m   4589\u001b[0m         new_axis \u001b[38;5;241m=\u001b[39m axis\u001b[38;5;241m.\u001b[39mdrop(labels, level\u001b[38;5;241m=\u001b[39mlevel, errors\u001b[38;5;241m=\u001b[39merrors)\n\u001b[1;32m   4590\u001b[0m     \u001b[38;5;28;01melse\u001b[39;00m:\n\u001b[0;32m-> 4591\u001b[0m         new_axis \u001b[38;5;241m=\u001b[39m axis\u001b[38;5;241m.\u001b[39mdrop(labels, errors\u001b[38;5;241m=\u001b[39merrors)\n\u001b[1;32m   4592\u001b[0m     indexer \u001b[38;5;241m=\u001b[39m axis\u001b[38;5;241m.\u001b[39mget_indexer(new_axis)\n\u001b[1;32m   4594\u001b[0m \u001b[38;5;66;03m# Case for non-unique axis\u001b[39;00m\n\u001b[1;32m   4595\u001b[0m \u001b[38;5;28;01melse\u001b[39;00m:\n",
      "File \u001b[0;32m~/anaconda3/lib/python3.11/site-packages/pandas/core/indexes/base.py:6699\u001b[0m, in \u001b[0;36mIndex.drop\u001b[0;34m(self, labels, errors)\u001b[0m\n\u001b[1;32m   6697\u001b[0m \u001b[38;5;28;01mif\u001b[39;00m mask\u001b[38;5;241m.\u001b[39many():\n\u001b[1;32m   6698\u001b[0m     \u001b[38;5;28;01mif\u001b[39;00m errors \u001b[38;5;241m!=\u001b[39m \u001b[38;5;124m\"\u001b[39m\u001b[38;5;124mignore\u001b[39m\u001b[38;5;124m\"\u001b[39m:\n\u001b[0;32m-> 6699\u001b[0m         \u001b[38;5;28;01mraise\u001b[39;00m \u001b[38;5;167;01mKeyError\u001b[39;00m(\u001b[38;5;124mf\u001b[39m\u001b[38;5;124m\"\u001b[39m\u001b[38;5;132;01m{\u001b[39;00m\u001b[38;5;28mlist\u001b[39m(labels[mask])\u001b[38;5;132;01m}\u001b[39;00m\u001b[38;5;124m not found in axis\u001b[39m\u001b[38;5;124m\"\u001b[39m)\n\u001b[1;32m   6700\u001b[0m     indexer \u001b[38;5;241m=\u001b[39m indexer[\u001b[38;5;241m~\u001b[39mmask]\n\u001b[1;32m   6701\u001b[0m \u001b[38;5;28;01mreturn\u001b[39;00m \u001b[38;5;28mself\u001b[39m\u001b[38;5;241m.\u001b[39mdelete(indexer)\n",
      "\u001b[0;31mKeyError\u001b[0m: \"['url', 'url_x', 'url_y', 'driverRef', 'driver_num', 'driver_code', 'forename', 'surname'] not found in axis\""
     ]
    }
   ],
   "source": [
    "columns =['url', 'url_x', 'url_y', 'driverRef','driver_num', 'driver_code', 'forename', 'surname']\n",
    "df.drop(columns, axis=1, inplace =True)"
   ]
  },
  {
   "cell_type": "code",
   "execution_count": 37,
   "id": "77aba93e-7086-41ae-9784-afbff44c85d9",
   "metadata": {},
   "outputs": [
    {
     "data": {
      "text/html": [
       "<div>\n",
       "<style scoped>\n",
       "    .dataframe tbody tr th:only-of-type {\n",
       "        vertical-align: middle;\n",
       "    }\n",
       "\n",
       "    .dataframe tbody tr th {\n",
       "        vertical-align: top;\n",
       "    }\n",
       "\n",
       "    .dataframe thead th {\n",
       "        text-align: right;\n",
       "    }\n",
       "</style>\n",
       "<table border=\"1\" class=\"dataframe\">\n",
       "  <thead>\n",
       "    <tr style=\"text-align: right;\">\n",
       "      <th></th>\n",
       "      <th>resultId</th>\n",
       "      <th>racerId</th>\n",
       "      <th>driverId</th>\n",
       "      <th>constructorId</th>\n",
       "      <th>number</th>\n",
       "      <th>grid</th>\n",
       "      <th>position_x</th>\n",
       "      <th>positionText_x</th>\n",
       "      <th>positionOrder</th>\n",
       "      <th>points</th>\n",
       "      <th>...</th>\n",
       "      <th>raceId_y</th>\n",
       "      <th>points_y</th>\n",
       "      <th>position</th>\n",
       "      <th>positionText_y</th>\n",
       "      <th>wins</th>\n",
       "      <th>constructorRef</th>\n",
       "      <th>company</th>\n",
       "      <th>nationality_y</th>\n",
       "      <th>status</th>\n",
       "      <th>result_driver_standing</th>\n",
       "    </tr>\n",
       "  </thead>\n",
       "  <tbody>\n",
       "    <tr>\n",
       "      <th>0</th>\n",
       "      <td>20025</td>\n",
       "      <td>833</td>\n",
       "      <td>642</td>\n",
       "      <td>51</td>\n",
       "      <td>2</td>\n",
       "      <td>1</td>\n",
       "      <td>1</td>\n",
       "      <td>1</td>\n",
       "      <td>1</td>\n",
       "      <td>9.0</td>\n",
       "      <td>...</td>\n",
       "      <td>792</td>\n",
       "      <td>3.33</td>\n",
       "      <td>3</td>\n",
       "      <td>3</td>\n",
       "      <td>0</td>\n",
       "      <td>alfa</td>\n",
       "      <td>Alfa Romeo</td>\n",
       "      <td>Swiss</td>\n",
       "      <td>Finished</td>\n",
       "      <td>922731975</td>\n",
       "    </tr>\n",
       "    <tr>\n",
       "      <th>1</th>\n",
       "      <td>20025</td>\n",
       "      <td>833</td>\n",
       "      <td>642</td>\n",
       "      <td>51</td>\n",
       "      <td>2</td>\n",
       "      <td>1</td>\n",
       "      <td>1</td>\n",
       "      <td>1</td>\n",
       "      <td>1</td>\n",
       "      <td>9.0</td>\n",
       "      <td>...</td>\n",
       "      <td>793</td>\n",
       "      <td>6.33</td>\n",
       "      <td>3</td>\n",
       "      <td>3</td>\n",
       "      <td>0</td>\n",
       "      <td>alfa</td>\n",
       "      <td>Alfa Romeo</td>\n",
       "      <td>Swiss</td>\n",
       "      <td>Finished</td>\n",
       "      <td>923172525</td>\n",
       "    </tr>\n",
       "    <tr>\n",
       "      <th>2</th>\n",
       "      <td>20025</td>\n",
       "      <td>833</td>\n",
       "      <td>642</td>\n",
       "      <td>51</td>\n",
       "      <td>2</td>\n",
       "      <td>1</td>\n",
       "      <td>1</td>\n",
       "      <td>1</td>\n",
       "      <td>1</td>\n",
       "      <td>9.0</td>\n",
       "      <td>...</td>\n",
       "      <td>794</td>\n",
       "      <td>6.33</td>\n",
       "      <td>4</td>\n",
       "      <td>4</td>\n",
       "      <td>0</td>\n",
       "      <td>alfa</td>\n",
       "      <td>Alfa Romeo</td>\n",
       "      <td>Swiss</td>\n",
       "      <td>Finished</td>\n",
       "      <td>923833350</td>\n",
       "    </tr>\n",
       "    <tr>\n",
       "      <th>3</th>\n",
       "      <td>20025</td>\n",
       "      <td>833</td>\n",
       "      <td>642</td>\n",
       "      <td>51</td>\n",
       "      <td>2</td>\n",
       "      <td>1</td>\n",
       "      <td>1</td>\n",
       "      <td>1</td>\n",
       "      <td>1</td>\n",
       "      <td>9.0</td>\n",
       "      <td>...</td>\n",
       "      <td>795</td>\n",
       "      <td>10.33</td>\n",
       "      <td>3</td>\n",
       "      <td>3</td>\n",
       "      <td>0</td>\n",
       "      <td>alfa</td>\n",
       "      <td>Alfa Romeo</td>\n",
       "      <td>Swiss</td>\n",
       "      <td>Finished</td>\n",
       "      <td>925195050</td>\n",
       "    </tr>\n",
       "    <tr>\n",
       "      <th>4</th>\n",
       "      <td>20025</td>\n",
       "      <td>833</td>\n",
       "      <td>642</td>\n",
       "      <td>51</td>\n",
       "      <td>2</td>\n",
       "      <td>1</td>\n",
       "      <td>1</td>\n",
       "      <td>1</td>\n",
       "      <td>1</td>\n",
       "      <td>9.0</td>\n",
       "      <td>...</td>\n",
       "      <td>796</td>\n",
       "      <td>10.33</td>\n",
       "      <td>4</td>\n",
       "      <td>4</td>\n",
       "      <td>0</td>\n",
       "      <td>alfa</td>\n",
       "      <td>Alfa Romeo</td>\n",
       "      <td>Swiss</td>\n",
       "      <td>Finished</td>\n",
       "      <td>926576775</td>\n",
       "    </tr>\n",
       "  </tbody>\n",
       "</table>\n",
       "<p>5 rows × 37 columns</p>\n",
       "</div>"
      ],
      "text/plain": [
       "   resultId  racerId  driverId  constructorId number  grid position_x  \\\n",
       "0     20025      833       642             51      2     1          1   \n",
       "1     20025      833       642             51      2     1          1   \n",
       "2     20025      833       642             51      2     1          1   \n",
       "3     20025      833       642             51      2     1          1   \n",
       "4     20025      833       642             51      2     1          1   \n",
       "\n",
       "  positionText_x  positionOrder  points  ...  raceId_y points_y position  \\\n",
       "0              1              1     9.0  ...       792     3.33        3   \n",
       "1              1              1     9.0  ...       793     6.33        3   \n",
       "2              1              1     9.0  ...       794     6.33        4   \n",
       "3              1              1     9.0  ...       795    10.33        3   \n",
       "4              1              1     9.0  ...       796    10.33        4   \n",
       "\n",
       "  positionText_y wins constructorRef     company  nationality_y    status  \\\n",
       "0              3    0           alfa  Alfa Romeo          Swiss  Finished   \n",
       "1              3    0           alfa  Alfa Romeo          Swiss  Finished   \n",
       "2              4    0           alfa  Alfa Romeo          Swiss  Finished   \n",
       "3              3    0           alfa  Alfa Romeo          Swiss  Finished   \n",
       "4              4    0           alfa  Alfa Romeo          Swiss  Finished   \n",
       "\n",
       "   result_driver_standing  \n",
       "0               922731975  \n",
       "1               923172525  \n",
       "2               923833350  \n",
       "3               925195050  \n",
       "4               926576775  \n",
       "\n",
       "[5 rows x 37 columns]"
      ]
     },
     "execution_count": 37,
     "metadata": {},
     "output_type": "execute_result"
    }
   ],
   "source": [
    "df.head()"
   ]
  },
  {
   "cell_type": "code",
   "execution_count": 39,
   "id": "ec1a3bb9-222c-471f-97b1-89963a2c77b3",
   "metadata": {},
   "outputs": [
    {
     "name": "stdout",
     "output_type": "stream",
     "text": [
      "524\n"
     ]
    }
   ],
   "source": [
    "#df.drop(['position_x', 'positionText_x', 'status', 'date', 'nationality', 'positionText_y', 'constructorRef', 'constuctorId','nationality_y' \n",
    "rounds1 = df.loc[(df['year'] == 1950) & (df['round'] == 1)]\n",
    "\n",
    "# Count the number of rows in the filtered DataFrame\n",
    "count = rounds1.shape[0]  \n",
    "print(count)"
   ]
  },
  {
   "cell_type": "code",
   "execution_count": 41,
   "id": "3f0acb03-7790-476d-930b-d375c20d669d",
   "metadata": {},
   "outputs": [
    {
     "name": "stdout",
     "output_type": "stream",
     "text": [
      "829\n"
     ]
    }
   ],
   "source": [
    "rounds2 = df.loc[(df['year'] == 1950) & (df['round'] == 7)]\n",
    "\n",
    "# Count the number of rows in the filtered DataFrame\n",
    "count= rounds2.shape[0] \n",
    "print(count)"
   ]
  },
  {
   "cell_type": "code",
   "execution_count": 43,
   "id": "4396cdf3-4bc2-42d1-90ab-4f49edbff8dc",
   "metadata": {},
   "outputs": [
    {
     "name": "stdout",
     "output_type": "stream",
     "text": [
      "max_speed\n",
      "220.611    753\n",
      "206.483    674\n",
      "202.262    642\n",
      "226.600    635\n",
      "250.162    628\n",
      "          ... \n",
      "215.364     11\n",
      "210.480     11\n",
      "244.794     11\n",
      "207.296     11\n",
      "208.369     11\n",
      "Name: count, Length: 3700, dtype: int64\n"
     ]
    }
   ],
   "source": [
    "value_counts = df['max_speed'].value_counts()\n",
    "print(value_counts)"
   ]
  },
  {
   "cell_type": "code",
   "execution_count": null,
   "id": "3dc2fb8a-0222-4115-9ead-ac9cf8d3094c",
   "metadata": {},
   "outputs": [],
   "source": []
  },
  {
   "cell_type": "code",
   "execution_count": 46,
   "id": "358a8c08-0937-4d87-a0ad-912211ef13a7",
   "metadata": {},
   "outputs": [
    {
     "name": "stdout",
     "output_type": "stream",
     "text": [
      "max_speed\n",
      "220.611    753\n",
      "206.483    674\n",
      "202.262    642\n",
      "226.600    635\n",
      "250.162    628\n",
      "          ... \n",
      "215.364     11\n",
      "210.480     11\n",
      "244.794     11\n",
      "207.296     11\n",
      "208.369     11\n",
      "Name: count, Length: 3700, dtype: int64\n"
     ]
    }
   ],
   "source": [
    "value_counts = df['max_speed'].value_counts()\n",
    "print(value_counts)"
   ]
  },
  {
   "cell_type": "code",
   "execution_count": 48,
   "id": "4198f3d9-1993-4eb2-a2d6-104a90edfb59",
   "metadata": {},
   "outputs": [],
   "source": [
    "df['max_speed'] = pd.to_numeric(df['max_speed'], errors='coerce')"
   ]
  },
  {
   "cell_type": "code",
   "execution_count": 50,
   "id": "16b1e153-c9b1-4494-ab61-37dd02e7be28",
   "metadata": {},
   "outputs": [
    {
     "name": "stdout",
     "output_type": "stream",
     "text": [
      "257.32\n"
     ]
    }
   ],
   "source": [
    "max_value = df['max_speed'].max()\n",
    "print(max_value)"
   ]
  },
  {
   "cell_type": "code",
   "execution_count": 52,
   "id": "780bf2cd-a05a-4b00-b782-3d58e035baa1",
   "metadata": {},
   "outputs": [
    {
     "data": {
      "text/html": [
       "<div>\n",
       "<style scoped>\n",
       "    .dataframe tbody tr th:only-of-type {\n",
       "        vertical-align: middle;\n",
       "    }\n",
       "\n",
       "    .dataframe tbody tr th {\n",
       "        vertical-align: top;\n",
       "    }\n",
       "\n",
       "    .dataframe thead th {\n",
       "        text-align: right;\n",
       "    }\n",
       "</style>\n",
       "<table border=\"1\" class=\"dataframe\">\n",
       "  <thead>\n",
       "    <tr style=\"text-align: right;\">\n",
       "      <th></th>\n",
       "      <th>resultId</th>\n",
       "      <th>racerId</th>\n",
       "      <th>driverId</th>\n",
       "      <th>constructorId</th>\n",
       "      <th>number</th>\n",
       "      <th>grid</th>\n",
       "      <th>position_x</th>\n",
       "      <th>positionText_x</th>\n",
       "      <th>positionOrder</th>\n",
       "      <th>points</th>\n",
       "      <th>...</th>\n",
       "      <th>raceId_y</th>\n",
       "      <th>points_y</th>\n",
       "      <th>position</th>\n",
       "      <th>positionText_y</th>\n",
       "      <th>wins</th>\n",
       "      <th>constructorRef</th>\n",
       "      <th>company</th>\n",
       "      <th>nationality_y</th>\n",
       "      <th>status</th>\n",
       "      <th>result_driver_standing</th>\n",
       "    </tr>\n",
       "  </thead>\n",
       "  <tbody>\n",
       "    <tr>\n",
       "      <th>0</th>\n",
       "      <td>20025</td>\n",
       "      <td>833</td>\n",
       "      <td>642</td>\n",
       "      <td>51</td>\n",
       "      <td>2</td>\n",
       "      <td>1</td>\n",
       "      <td>1</td>\n",
       "      <td>1</td>\n",
       "      <td>1</td>\n",
       "      <td>9.0</td>\n",
       "      <td>...</td>\n",
       "      <td>792</td>\n",
       "      <td>3.33</td>\n",
       "      <td>3</td>\n",
       "      <td>3</td>\n",
       "      <td>0</td>\n",
       "      <td>alfa</td>\n",
       "      <td>Alfa Romeo</td>\n",
       "      <td>Swiss</td>\n",
       "      <td>Finished</td>\n",
       "      <td>922731975</td>\n",
       "    </tr>\n",
       "    <tr>\n",
       "      <th>1</th>\n",
       "      <td>20025</td>\n",
       "      <td>833</td>\n",
       "      <td>642</td>\n",
       "      <td>51</td>\n",
       "      <td>2</td>\n",
       "      <td>1</td>\n",
       "      <td>1</td>\n",
       "      <td>1</td>\n",
       "      <td>1</td>\n",
       "      <td>9.0</td>\n",
       "      <td>...</td>\n",
       "      <td>793</td>\n",
       "      <td>6.33</td>\n",
       "      <td>3</td>\n",
       "      <td>3</td>\n",
       "      <td>0</td>\n",
       "      <td>alfa</td>\n",
       "      <td>Alfa Romeo</td>\n",
       "      <td>Swiss</td>\n",
       "      <td>Finished</td>\n",
       "      <td>923172525</td>\n",
       "    </tr>\n",
       "    <tr>\n",
       "      <th>2</th>\n",
       "      <td>20025</td>\n",
       "      <td>833</td>\n",
       "      <td>642</td>\n",
       "      <td>51</td>\n",
       "      <td>2</td>\n",
       "      <td>1</td>\n",
       "      <td>1</td>\n",
       "      <td>1</td>\n",
       "      <td>1</td>\n",
       "      <td>9.0</td>\n",
       "      <td>...</td>\n",
       "      <td>794</td>\n",
       "      <td>6.33</td>\n",
       "      <td>4</td>\n",
       "      <td>4</td>\n",
       "      <td>0</td>\n",
       "      <td>alfa</td>\n",
       "      <td>Alfa Romeo</td>\n",
       "      <td>Swiss</td>\n",
       "      <td>Finished</td>\n",
       "      <td>923833350</td>\n",
       "    </tr>\n",
       "    <tr>\n",
       "      <th>3</th>\n",
       "      <td>20025</td>\n",
       "      <td>833</td>\n",
       "      <td>642</td>\n",
       "      <td>51</td>\n",
       "      <td>2</td>\n",
       "      <td>1</td>\n",
       "      <td>1</td>\n",
       "      <td>1</td>\n",
       "      <td>1</td>\n",
       "      <td>9.0</td>\n",
       "      <td>...</td>\n",
       "      <td>795</td>\n",
       "      <td>10.33</td>\n",
       "      <td>3</td>\n",
       "      <td>3</td>\n",
       "      <td>0</td>\n",
       "      <td>alfa</td>\n",
       "      <td>Alfa Romeo</td>\n",
       "      <td>Swiss</td>\n",
       "      <td>Finished</td>\n",
       "      <td>925195050</td>\n",
       "    </tr>\n",
       "    <tr>\n",
       "      <th>4</th>\n",
       "      <td>20025</td>\n",
       "      <td>833</td>\n",
       "      <td>642</td>\n",
       "      <td>51</td>\n",
       "      <td>2</td>\n",
       "      <td>1</td>\n",
       "      <td>1</td>\n",
       "      <td>1</td>\n",
       "      <td>1</td>\n",
       "      <td>9.0</td>\n",
       "      <td>...</td>\n",
       "      <td>796</td>\n",
       "      <td>10.33</td>\n",
       "      <td>4</td>\n",
       "      <td>4</td>\n",
       "      <td>0</td>\n",
       "      <td>alfa</td>\n",
       "      <td>Alfa Romeo</td>\n",
       "      <td>Swiss</td>\n",
       "      <td>Finished</td>\n",
       "      <td>926576775</td>\n",
       "    </tr>\n",
       "  </tbody>\n",
       "</table>\n",
       "<p>5 rows × 37 columns</p>\n",
       "</div>"
      ],
      "text/plain": [
       "   resultId  racerId  driverId  constructorId number  grid position_x  \\\n",
       "0     20025      833       642             51      2     1          1   \n",
       "1     20025      833       642             51      2     1          1   \n",
       "2     20025      833       642             51      2     1          1   \n",
       "3     20025      833       642             51      2     1          1   \n",
       "4     20025      833       642             51      2     1          1   \n",
       "\n",
       "  positionText_x  positionOrder  points  ...  raceId_y points_y position  \\\n",
       "0              1              1     9.0  ...       792     3.33        3   \n",
       "1              1              1     9.0  ...       793     6.33        3   \n",
       "2              1              1     9.0  ...       794     6.33        4   \n",
       "3              1              1     9.0  ...       795    10.33        3   \n",
       "4              1              1     9.0  ...       796    10.33        4   \n",
       "\n",
       "  positionText_y wins constructorRef     company  nationality_y    status  \\\n",
       "0              3    0           alfa  Alfa Romeo          Swiss  Finished   \n",
       "1              3    0           alfa  Alfa Romeo          Swiss  Finished   \n",
       "2              4    0           alfa  Alfa Romeo          Swiss  Finished   \n",
       "3              3    0           alfa  Alfa Romeo          Swiss  Finished   \n",
       "4              4    0           alfa  Alfa Romeo          Swiss  Finished   \n",
       "\n",
       "   result_driver_standing  \n",
       "0               922731975  \n",
       "1               923172525  \n",
       "2               923833350  \n",
       "3               925195050  \n",
       "4               926576775  \n",
       "\n",
       "[5 rows x 37 columns]"
      ]
     },
     "execution_count": 52,
     "metadata": {},
     "output_type": "execute_result"
    }
   ],
   "source": [
    "df.head()"
   ]
  },
  {
   "cell_type": "code",
   "execution_count": 54,
   "id": "a6b867d4-2dae-46ab-94e4-3c3315b4b665",
   "metadata": {},
   "outputs": [
    {
     "data": {
      "text/plain": [
       "(2830101, 37)"
      ]
     },
     "execution_count": 54,
     "metadata": {},
     "output_type": "execute_result"
    }
   ],
   "source": [
    "df.shape"
   ]
  },
  {
   "cell_type": "code",
   "execution_count": 56,
   "id": "51e54093-4965-42f4-a5a5-76a360e2ef5c",
   "metadata": {},
   "outputs": [
    {
     "name": "stdout",
     "output_type": "stream",
     "text": [
      "<class 'pandas.core.series.Series'>\n",
      "RangeIndex: 2830101 entries, 0 to 2830100\n",
      "Series name: age\n",
      "Non-Null Count    Dtype\n",
      "--------------    -----\n",
      "2830101 non-null  int64\n",
      "dtypes: int64(1)\n",
      "memory usage: 21.6 MB\n"
     ]
    }
   ],
   "source": [
    "df['dob'] = pd.to_datetime(df['dob'])\n",
    "df['age'] = df['year'] - df['dob'].dt.year\n",
    "df['age'].info()"
   ]
  },
  {
   "cell_type": "code",
   "execution_count": 58,
   "id": "c74ec986-6dc6-4759-8437-bdc8c4165ff2",
   "metadata": {},
   "outputs": [
    {
     "data": {
      "text/html": [
       "<div>\n",
       "<style scoped>\n",
       "    .dataframe tbody tr th:only-of-type {\n",
       "        vertical-align: middle;\n",
       "    }\n",
       "\n",
       "    .dataframe tbody tr th {\n",
       "        vertical-align: top;\n",
       "    }\n",
       "\n",
       "    .dataframe thead th {\n",
       "        text-align: right;\n",
       "    }\n",
       "</style>\n",
       "<table border=\"1\" class=\"dataframe\">\n",
       "  <thead>\n",
       "    <tr style=\"text-align: right;\">\n",
       "      <th></th>\n",
       "      <th>resultId</th>\n",
       "      <th>racerId</th>\n",
       "      <th>driverId</th>\n",
       "      <th>constructorId</th>\n",
       "      <th>number</th>\n",
       "      <th>grid</th>\n",
       "      <th>position_x</th>\n",
       "      <th>positionText_x</th>\n",
       "      <th>positionOrder</th>\n",
       "      <th>points</th>\n",
       "      <th>...</th>\n",
       "      <th>points_y</th>\n",
       "      <th>position</th>\n",
       "      <th>positionText_y</th>\n",
       "      <th>wins</th>\n",
       "      <th>constructorRef</th>\n",
       "      <th>company</th>\n",
       "      <th>nationality_y</th>\n",
       "      <th>status</th>\n",
       "      <th>result_driver_standing</th>\n",
       "      <th>age</th>\n",
       "    </tr>\n",
       "  </thead>\n",
       "  <tbody>\n",
       "    <tr>\n",
       "      <th>0</th>\n",
       "      <td>20025</td>\n",
       "      <td>833</td>\n",
       "      <td>642</td>\n",
       "      <td>51</td>\n",
       "      <td>2</td>\n",
       "      <td>1</td>\n",
       "      <td>1</td>\n",
       "      <td>1</td>\n",
       "      <td>1</td>\n",
       "      <td>9.0</td>\n",
       "      <td>...</td>\n",
       "      <td>3.33</td>\n",
       "      <td>3</td>\n",
       "      <td>3</td>\n",
       "      <td>0</td>\n",
       "      <td>alfa</td>\n",
       "      <td>Alfa Romeo</td>\n",
       "      <td>Swiss</td>\n",
       "      <td>Finished</td>\n",
       "      <td>922731975</td>\n",
       "      <td>44</td>\n",
       "    </tr>\n",
       "    <tr>\n",
       "      <th>1</th>\n",
       "      <td>20025</td>\n",
       "      <td>833</td>\n",
       "      <td>642</td>\n",
       "      <td>51</td>\n",
       "      <td>2</td>\n",
       "      <td>1</td>\n",
       "      <td>1</td>\n",
       "      <td>1</td>\n",
       "      <td>1</td>\n",
       "      <td>9.0</td>\n",
       "      <td>...</td>\n",
       "      <td>6.33</td>\n",
       "      <td>3</td>\n",
       "      <td>3</td>\n",
       "      <td>0</td>\n",
       "      <td>alfa</td>\n",
       "      <td>Alfa Romeo</td>\n",
       "      <td>Swiss</td>\n",
       "      <td>Finished</td>\n",
       "      <td>923172525</td>\n",
       "      <td>44</td>\n",
       "    </tr>\n",
       "    <tr>\n",
       "      <th>2</th>\n",
       "      <td>20025</td>\n",
       "      <td>833</td>\n",
       "      <td>642</td>\n",
       "      <td>51</td>\n",
       "      <td>2</td>\n",
       "      <td>1</td>\n",
       "      <td>1</td>\n",
       "      <td>1</td>\n",
       "      <td>1</td>\n",
       "      <td>9.0</td>\n",
       "      <td>...</td>\n",
       "      <td>6.33</td>\n",
       "      <td>4</td>\n",
       "      <td>4</td>\n",
       "      <td>0</td>\n",
       "      <td>alfa</td>\n",
       "      <td>Alfa Romeo</td>\n",
       "      <td>Swiss</td>\n",
       "      <td>Finished</td>\n",
       "      <td>923833350</td>\n",
       "      <td>44</td>\n",
       "    </tr>\n",
       "    <tr>\n",
       "      <th>3</th>\n",
       "      <td>20025</td>\n",
       "      <td>833</td>\n",
       "      <td>642</td>\n",
       "      <td>51</td>\n",
       "      <td>2</td>\n",
       "      <td>1</td>\n",
       "      <td>1</td>\n",
       "      <td>1</td>\n",
       "      <td>1</td>\n",
       "      <td>9.0</td>\n",
       "      <td>...</td>\n",
       "      <td>10.33</td>\n",
       "      <td>3</td>\n",
       "      <td>3</td>\n",
       "      <td>0</td>\n",
       "      <td>alfa</td>\n",
       "      <td>Alfa Romeo</td>\n",
       "      <td>Swiss</td>\n",
       "      <td>Finished</td>\n",
       "      <td>925195050</td>\n",
       "      <td>44</td>\n",
       "    </tr>\n",
       "    <tr>\n",
       "      <th>4</th>\n",
       "      <td>20025</td>\n",
       "      <td>833</td>\n",
       "      <td>642</td>\n",
       "      <td>51</td>\n",
       "      <td>2</td>\n",
       "      <td>1</td>\n",
       "      <td>1</td>\n",
       "      <td>1</td>\n",
       "      <td>1</td>\n",
       "      <td>9.0</td>\n",
       "      <td>...</td>\n",
       "      <td>10.33</td>\n",
       "      <td>4</td>\n",
       "      <td>4</td>\n",
       "      <td>0</td>\n",
       "      <td>alfa</td>\n",
       "      <td>Alfa Romeo</td>\n",
       "      <td>Swiss</td>\n",
       "      <td>Finished</td>\n",
       "      <td>926576775</td>\n",
       "      <td>44</td>\n",
       "    </tr>\n",
       "    <tr>\n",
       "      <th>...</th>\n",
       "      <td>...</td>\n",
       "      <td>...</td>\n",
       "      <td>...</td>\n",
       "      <td>...</td>\n",
       "      <td>...</td>\n",
       "      <td>...</td>\n",
       "      <td>...</td>\n",
       "      <td>...</td>\n",
       "      <td>...</td>\n",
       "      <td>...</td>\n",
       "      <td>...</td>\n",
       "      <td>...</td>\n",
       "      <td>...</td>\n",
       "      <td>...</td>\n",
       "      <td>...</td>\n",
       "      <td>...</td>\n",
       "      <td>...</td>\n",
       "      <td>...</td>\n",
       "      <td>...</td>\n",
       "      <td>...</td>\n",
       "      <td>...</td>\n",
       "    </tr>\n",
       "    <tr>\n",
       "      <th>95</th>\n",
       "      <td>20028</td>\n",
       "      <td>833</td>\n",
       "      <td>704</td>\n",
       "      <td>154</td>\n",
       "      <td>14</td>\n",
       "      <td>6</td>\n",
       "      <td>4</td>\n",
       "      <td>4</td>\n",
       "      <td>4</td>\n",
       "      <td>3.0</td>\n",
       "      <td>...</td>\n",
       "      <td>2.00</td>\n",
       "      <td>16</td>\n",
       "      <td>16</td>\n",
       "      <td>0</td>\n",
       "      <td>lago</td>\n",
       "      <td>Talbot-Lago</td>\n",
       "      <td>French</td>\n",
       "      <td>+2 Laps</td>\n",
       "      <td>877927380</td>\n",
       "      <td>46</td>\n",
       "    </tr>\n",
       "    <tr>\n",
       "      <th>96</th>\n",
       "      <td>20028</td>\n",
       "      <td>833</td>\n",
       "      <td>704</td>\n",
       "      <td>154</td>\n",
       "      <td>14</td>\n",
       "      <td>6</td>\n",
       "      <td>4</td>\n",
       "      <td>4</td>\n",
       "      <td>4</td>\n",
       "      <td>3.0</td>\n",
       "      <td>...</td>\n",
       "      <td>2.00</td>\n",
       "      <td>16</td>\n",
       "      <td>16</td>\n",
       "      <td>0</td>\n",
       "      <td>lago</td>\n",
       "      <td>Talbot-Lago</td>\n",
       "      <td>French</td>\n",
       "      <td>+2 Laps</td>\n",
       "      <td>879409452</td>\n",
       "      <td>46</td>\n",
       "    </tr>\n",
       "    <tr>\n",
       "      <th>97</th>\n",
       "      <td>20028</td>\n",
       "      <td>833</td>\n",
       "      <td>704</td>\n",
       "      <td>154</td>\n",
       "      <td>14</td>\n",
       "      <td>6</td>\n",
       "      <td>4</td>\n",
       "      <td>4</td>\n",
       "      <td>4</td>\n",
       "      <td>3.0</td>\n",
       "      <td>...</td>\n",
       "      <td>2.00</td>\n",
       "      <td>16</td>\n",
       "      <td>16</td>\n",
       "      <td>0</td>\n",
       "      <td>lago</td>\n",
       "      <td>Talbot-Lago</td>\n",
       "      <td>French</td>\n",
       "      <td>+2 Laps</td>\n",
       "      <td>880951608</td>\n",
       "      <td>46</td>\n",
       "    </tr>\n",
       "    <tr>\n",
       "      <th>98</th>\n",
       "      <td>20028</td>\n",
       "      <td>833</td>\n",
       "      <td>704</td>\n",
       "      <td>154</td>\n",
       "      <td>14</td>\n",
       "      <td>6</td>\n",
       "      <td>4</td>\n",
       "      <td>4</td>\n",
       "      <td>4</td>\n",
       "      <td>3.0</td>\n",
       "      <td>...</td>\n",
       "      <td>2.00</td>\n",
       "      <td>17</td>\n",
       "      <td>17</td>\n",
       "      <td>0</td>\n",
       "      <td>lago</td>\n",
       "      <td>Talbot-Lago</td>\n",
       "      <td>French</td>\n",
       "      <td>+2 Laps</td>\n",
       "      <td>882553848</td>\n",
       "      <td>46</td>\n",
       "    </tr>\n",
       "    <tr>\n",
       "      <th>99</th>\n",
       "      <td>20028</td>\n",
       "      <td>833</td>\n",
       "      <td>704</td>\n",
       "      <td>154</td>\n",
       "      <td>14</td>\n",
       "      <td>6</td>\n",
       "      <td>4</td>\n",
       "      <td>4</td>\n",
       "      <td>4</td>\n",
       "      <td>3.0</td>\n",
       "      <td>...</td>\n",
       "      <td>3.00</td>\n",
       "      <td>4</td>\n",
       "      <td>4</td>\n",
       "      <td>0</td>\n",
       "      <td>lago</td>\n",
       "      <td>Talbot-Lago</td>\n",
       "      <td>French</td>\n",
       "      <td>+2 Laps</td>\n",
       "      <td>865289712</td>\n",
       "      <td>46</td>\n",
       "    </tr>\n",
       "  </tbody>\n",
       "</table>\n",
       "<p>100 rows × 38 columns</p>\n",
       "</div>"
      ],
      "text/plain": [
       "    resultId  racerId  driverId  constructorId number  grid position_x  \\\n",
       "0      20025      833       642             51      2     1          1   \n",
       "1      20025      833       642             51      2     1          1   \n",
       "2      20025      833       642             51      2     1          1   \n",
       "3      20025      833       642             51      2     1          1   \n",
       "4      20025      833       642             51      2     1          1   \n",
       "..       ...      ...       ...            ...    ...   ...        ...   \n",
       "95     20028      833       704            154     14     6          4   \n",
       "96     20028      833       704            154     14     6          4   \n",
       "97     20028      833       704            154     14     6          4   \n",
       "98     20028      833       704            154     14     6          4   \n",
       "99     20028      833       704            154     14     6          4   \n",
       "\n",
       "   positionText_x  positionOrder  points  ...  points_y position  \\\n",
       "0               1              1     9.0  ...      3.33        3   \n",
       "1               1              1     9.0  ...      6.33        3   \n",
       "2               1              1     9.0  ...      6.33        4   \n",
       "3               1              1     9.0  ...     10.33        3   \n",
       "4               1              1     9.0  ...     10.33        4   \n",
       "..            ...            ...     ...  ...       ...      ...   \n",
       "95              4              4     3.0  ...      2.00       16   \n",
       "96              4              4     3.0  ...      2.00       16   \n",
       "97              4              4     3.0  ...      2.00       16   \n",
       "98              4              4     3.0  ...      2.00       17   \n",
       "99              4              4     3.0  ...      3.00        4   \n",
       "\n",
       "   positionText_y wins constructorRef      company  nationality_y    status  \\\n",
       "0               3    0           alfa   Alfa Romeo          Swiss  Finished   \n",
       "1               3    0           alfa   Alfa Romeo          Swiss  Finished   \n",
       "2               4    0           alfa   Alfa Romeo          Swiss  Finished   \n",
       "3               3    0           alfa   Alfa Romeo          Swiss  Finished   \n",
       "4               4    0           alfa   Alfa Romeo          Swiss  Finished   \n",
       "..            ...  ...            ...          ...            ...       ...   \n",
       "95             16    0           lago  Talbot-Lago         French   +2 Laps   \n",
       "96             16    0           lago  Talbot-Lago         French   +2 Laps   \n",
       "97             16    0           lago  Talbot-Lago         French   +2 Laps   \n",
       "98             17    0           lago  Talbot-Lago         French   +2 Laps   \n",
       "99              4    0           lago  Talbot-Lago         French   +2 Laps   \n",
       "\n",
       "    result_driver_standing  age  \n",
       "0                922731975   44  \n",
       "1                923172525   44  \n",
       "2                923833350   44  \n",
       "3                925195050   44  \n",
       "4                926576775   44  \n",
       "..                     ...  ...  \n",
       "95               877927380   46  \n",
       "96               879409452   46  \n",
       "97               880951608   46  \n",
       "98               882553848   46  \n",
       "99               865289712   46  \n",
       "\n",
       "[100 rows x 38 columns]"
      ]
     },
     "execution_count": 58,
     "metadata": {},
     "output_type": "execute_result"
    }
   ],
   "source": [
    "df.head(100)"
   ]
  },
  {
   "cell_type": "code",
   "execution_count": 60,
   "id": "bee3a494-371b-4eff-aea7-e795039e1989",
   "metadata": {},
   "outputs": [],
   "source": [
    "df.drop(['resultId', 'racerId','driverId','number','position_x', 'positionText_x','time_x','fastestLap' ,'date','time_y','dob','fastestLapTime','year','nationality','status', 'date', 'company', 'positionText_y', 'constructorRef','nationality_y'], axis=1,inplace=True )\n",
    "\n",
    "\n",
    "\n",
    "\n"
   ]
  },
  {
   "cell_type": "code",
   "execution_count": 62,
   "id": "afb4e96f-07c0-49b8-be4d-ca404d98cb4b",
   "metadata": {},
   "outputs": [
    {
     "name": "stdout",
     "output_type": "stream",
     "text": [
      "<class 'pandas.core.frame.DataFrame'>\n",
      "RangeIndex: 2830101 entries, 0 to 2830100\n",
      "Data columns (total 19 columns):\n",
      " #   Column                  Dtype  \n",
      "---  ------                  -----  \n",
      " 0   constructorId           int64  \n",
      " 1   grid                    int64  \n",
      " 2   positionOrder           int64  \n",
      " 3   points                  float64\n",
      " 4   laps                    int64  \n",
      " 5   timetaken_in_millisec   object \n",
      " 6   rank                    object \n",
      " 7   max_speed               float64\n",
      " 8   statusId                int64  \n",
      " 9   round                   int64  \n",
      " 10  circuitId               int64  \n",
      " 11  grand_prix              object \n",
      " 12  driverStandingsId       int64  \n",
      " 13  raceId_y                int64  \n",
      " 14  points_y                float64\n",
      " 15  position                int64  \n",
      " 16  wins                    int64  \n",
      " 17  result_driver_standing  int64  \n",
      " 18  age                     int64  \n",
      "dtypes: float64(3), int64(13), object(3)\n",
      "memory usage: 410.2+ MB\n"
     ]
    }
   ],
   "source": [
    "df.info()"
   ]
  },
  {
   "cell_type": "code",
   "execution_count": 64,
   "id": "b930564a-bbd6-4510-9833-619a02a9a5bb",
   "metadata": {},
   "outputs": [
    {
     "data": {
      "text/plain": [
       "<Axes: >"
      ]
     },
     "execution_count": 64,
     "metadata": {},
     "output_type": "execute_result"
    },
    {
     "data": {
      "image/png": "[encoded data removed]",
      "text/plain": [
       "<Figure size 1100x600 with 1 Axes>"
      ]
     },
     "metadata": {},
     "output_type": "display_data"
    }
   ],
   "source": [
    "plt.figure(figsize=(11,6))\n",
    "sns.boxplot(data = df['max_speed'])\n"
   ]
  },
  {
   "cell_type": "code",
   "execution_count": 66,
   "id": "bdb3a6e1-76f0-4597-8835-7bc91b6ad492",
   "metadata": {},
   "outputs": [
    {
     "data": {
      "text/plain": [
       "202.94339472713065"
      ]
     },
     "execution_count": 66,
     "metadata": {},
     "output_type": "execute_result"
    }
   ],
   "source": [
    "df['max_speed'].mean()\n"
   ]
  },
  {
   "cell_type": "code",
   "execution_count": 68,
   "id": "6d58c2b8-3a3b-4c0c-8b56-0fe4f235fde2",
   "metadata": {},
   "outputs": [
    {
     "data": {
      "text/plain": [
       "204.655"
      ]
     },
     "execution_count": 68,
     "metadata": {},
     "output_type": "execute_result"
    }
   ],
   "source": [
    "df['max_speed'].median()"
   ]
  },
  {
   "cell_type": "code",
   "execution_count": 70,
   "id": "e0f59977-3ca6-4c94-99ec-19518c29e37e",
   "metadata": {},
   "outputs": [
    {
     "name": "stdout",
     "output_type": "stream",
     "text": [
      "2082849\n"
     ]
    }
   ],
   "source": [
    "first_nonnull_index = df['rank'].first_valid_index()\n",
    "print(first_nonnull_index)"
   ]
  },
  {
   "cell_type": "code",
   "execution_count": null,
   "id": "61591223-0bf3-4657-8298-6bc529e5ef98",
   "metadata": {},
   "outputs": [],
   "source": []
  },
  {
   "cell_type": "code",
   "execution_count": 73,
   "id": "7ecf9622-f7dc-45e3-bc01-9bd2bf2b672f",
   "metadata": {},
   "outputs": [
    {
     "name": "stdout",
     "output_type": "stream",
     "text": [
      "2082849\n"
     ]
    }
   ],
   "source": [
    "_nonnull_index = df['timetaken_in_millisec'].first_valid_index()\n",
    "print(first_nonnull_index)"
   ]
  },
  {
   "cell_type": "code",
   "execution_count": 75,
   "id": "35441ff1-150e-48d7-a13a-b191d1a50b56",
   "metadata": {},
   "outputs": [
    {
     "data": {
      "text/plain": [
       "1871741"
      ]
     },
     "execution_count": 75,
     "metadata": {},
     "output_type": "execute_result"
    }
   ],
   "source": [
    "df['timetaken_in_millisec'].isnull().sum()"
   ]
  },
  {
   "cell_type": "code",
   "execution_count": 77,
   "id": "a739d56f-d186-4078-8ab0-49fc0c306917",
   "metadata": {},
   "outputs": [],
   "source": [
    "df['timetaken_in_millisec']=pd.to_numeric(df['timetaken_in_millisec'])\n",
    "df['rank']=pd.to_numeric(df['rank'])"
   ]
  },
  {
   "cell_type": "code",
   "execution_count": 78,
   "id": "8440053d-1ba2-40ad-bcd0-511dfafc7fe7",
   "metadata": {},
   "outputs": [],
   "source": [
    "min_value = df['timetaken_in_millisec'].min()\n",
    "max_value = df['timetaken_in_millisec'].max()"
   ]
  },
  {
   "cell_type": "code",
   "execution_count": 79,
   "id": "b08c709b-9b49-4077-aa1f-cbfcb5d01190",
   "metadata": {},
   "outputs": [
    {
     "name": "stdout",
     "output_type": "stream",
     "text": [
      "1474899.0\n",
      "15090540.0\n",
      "13615641.0\n"
     ]
    }
   ],
   "source": [
    "print(min_value)\n",
    "print(max_value)\n",
    "print(max_value-min_value)"
   ]
  },
  {
   "cell_type": "code",
   "execution_count": 83,
   "id": "0bce058a-684b-4d03-9747-9fc6cd8a019f",
   "metadata": {},
   "outputs": [
    {
     "name": "stdout",
     "output_type": "stream",
     "text": [
      "15090540.0\n"
     ]
    }
   ],
   "source": [
    "print(max_value)"
   ]
  },
  {
   "cell_type": "code",
   "execution_count": 85,
   "id": "e6aa553d-ba26-4908-ac3e-5b43165e92b7",
   "metadata": {},
   "outputs": [
    {
     "data": {
      "text/plain": [
       "constructorId                   0\n",
       "grid                            0\n",
       "positionOrder                   0\n",
       "points                          0\n",
       "laps                            0\n",
       "timetaken_in_millisec     1871741\n",
       "rank                      2105375\n",
       "max_speed                       0\n",
       "statusId                        0\n",
       "round                           0\n",
       "circuitId                       0\n",
       "grand_prix                      0\n",
       "driverStandingsId               0\n",
       "raceId_y                        0\n",
       "points_y                        0\n",
       "position                        0\n",
       "wins                            0\n",
       "result_driver_standing          0\n",
       "age                             0\n",
       "dtype: int64"
      ]
     },
     "execution_count": 85,
     "metadata": {},
     "output_type": "execute_result"
    }
   ],
   "source": [
    "#fill max_speed with 0\n",
    "df['max_speed'] = df['max_speed'].fillna(0)\n",
    "df.isnull().sum()"
   ]
  },
  {
   "cell_type": "code",
   "execution_count": 87,
   "id": "068e8734-dd5d-42a8-853a-25804cab0f7d",
   "metadata": {},
   "outputs": [
    {
     "name": "stdout",
     "output_type": "stream",
     "text": [
      "0.0\n",
      "24.0\n"
     ]
    }
   ],
   "source": [
    "min_value_rank = df['rank'].min()\n",
    "max_value_rank = df['rank'].max()\n",
    "print(min_value_rank)\n",
    "print(max_value_rank)"
   ]
  },
  {
   "cell_type": "code",
   "execution_count": 89,
   "id": "68fc0c85-a8b6-4597-9ac6-5491cc9143d4",
   "metadata": {},
   "outputs": [],
   "source": [
    "##fill rank with 25\n",
    "df['rank'] = df['rank'].fillna(25)"
   ]
  },
  {
   "cell_type": "code",
   "execution_count": 91,
   "id": "5133367a-01fe-4581-a724-a9aab9adb6c1",
   "metadata": {},
   "outputs": [
    {
     "data": {
      "text/plain": [
       "constructorId                   0\n",
       "grid                            0\n",
       "positionOrder                   0\n",
       "points                          0\n",
       "laps                            0\n",
       "timetaken_in_millisec     1871741\n",
       "rank                            0\n",
       "max_speed                       0\n",
       "statusId                        0\n",
       "round                           0\n",
       "circuitId                       0\n",
       "grand_prix                      0\n",
       "driverStandingsId               0\n",
       "raceId_y                        0\n",
       "points_y                        0\n",
       "position                        0\n",
       "wins                            0\n",
       "result_driver_standing          0\n",
       "age                             0\n",
       "dtype: int64"
      ]
     },
     "execution_count": 91,
     "metadata": {},
     "output_type": "execute_result"
    }
   ],
   "source": [
    "df.isnull().sum()"
   ]
  },
  {
   "cell_type": "code",
   "execution_count": 93,
   "id": "9c8b2afc-2858-47eb-8801-e9f3913b765d",
   "metadata": {},
   "outputs": [],
   "source": [
    "df['timetaken_in_millisec'] = df['timetaken_in_millisec'].fillna(15090550.0)"
   ]
  },
  {
   "cell_type": "code",
   "execution_count": 95,
   "id": "b7e34e8f-a726-4d1a-b979-da3edb135617",
   "metadata": {},
   "outputs": [
    {
     "data": {
      "text/plain": [
       "constructorId             0\n",
       "grid                      0\n",
       "positionOrder             0\n",
       "points                    0\n",
       "laps                      0\n",
       "timetaken_in_millisec     0\n",
       "rank                      0\n",
       "max_speed                 0\n",
       "statusId                  0\n",
       "round                     0\n",
       "circuitId                 0\n",
       "grand_prix                0\n",
       "driverStandingsId         0\n",
       "raceId_y                  0\n",
       "points_y                  0\n",
       "position                  0\n",
       "wins                      0\n",
       "result_driver_standing    0\n",
       "age                       0\n",
       "dtype: int64"
      ]
     },
     "execution_count": 95,
     "metadata": {},
     "output_type": "execute_result"
    }
   ],
   "source": [
    "df.isnull().sum()"
   ]
  },
  {
   "cell_type": "code",
   "execution_count": 97,
   "id": "160d3d6b-cc11-434c-8f1b-83212d4eb7f1",
   "metadata": {},
   "outputs": [
    {
     "name": "stdout",
     "output_type": "stream",
     "text": [
      "<class 'pandas.core.frame.DataFrame'>\n",
      "RangeIndex: 2830101 entries, 0 to 2830100\n",
      "Data columns (total 19 columns):\n",
      " #   Column                  Dtype  \n",
      "---  ------                  -----  \n",
      " 0   constructorId           int64  \n",
      " 1   grid                    int64  \n",
      " 2   positionOrder           int64  \n",
      " 3   points                  float64\n",
      " 4   laps                    int64  \n",
      " 5   timetaken_in_millisec   float64\n",
      " 6   rank                    float64\n",
      " 7   max_speed               float64\n",
      " 8   statusId                int64  \n",
      " 9   round                   int64  \n",
      " 10  circuitId               int64  \n",
      " 11  grand_prix              object \n",
      " 12  driverStandingsId       int64  \n",
      " 13  raceId_y                int64  \n",
      " 14  points_y                float64\n",
      " 15  position                int64  \n",
      " 16  wins                    int64  \n",
      " 17  result_driver_standing  int64  \n",
      " 18  age                     int64  \n",
      "dtypes: float64(5), int64(13), object(1)\n",
      "memory usage: 410.2+ MB\n"
     ]
    }
   ],
   "source": [
    "df.info()"
   ]
  },
  {
   "cell_type": "code",
   "execution_count": 99,
   "id": "a2355755-f46f-45cc-88d5-2cca20ea8664",
   "metadata": {},
   "outputs": [
    {
     "name": "stdout",
     "output_type": "stream",
     "text": [
      "0            British Grand Prix\n",
      "1            British Grand Prix\n",
      "2            British Grand Prix\n",
      "3            British Grand Prix\n",
      "4            British Grand Prix\n",
      "                   ...         \n",
      "2830096    Brazilian Grand Prix\n",
      "2830097    Brazilian Grand Prix\n",
      "2830098    Brazilian Grand Prix\n",
      "2830099    Brazilian Grand Prix\n",
      "2830100    Brazilian Grand Prix\n",
      "Name: grand_prix, Length: 2830101, dtype: object\n"
     ]
    }
   ],
   "source": [
    "print(df['grand_prix'])"
   ]
  },
  {
   "cell_type": "code",
   "execution_count": 101,
   "id": "411a2a6e-52fc-459c-bc2d-8774f8d33275",
   "metadata": {},
   "outputs": [
    {
     "data": {
      "text/html": [
       "<div>\n",
       "<style scoped>\n",
       "    .dataframe tbody tr th:only-of-type {\n",
       "        vertical-align: middle;\n",
       "    }\n",
       "\n",
       "    .dataframe tbody tr th {\n",
       "        vertical-align: top;\n",
       "    }\n",
       "\n",
       "    .dataframe thead th {\n",
       "        text-align: right;\n",
       "    }\n",
       "</style>\n",
       "<table border=\"1\" class=\"dataframe\">\n",
       "  <thead>\n",
       "    <tr style=\"text-align: right;\">\n",
       "      <th></th>\n",
       "      <th>constructorId</th>\n",
       "      <th>grid</th>\n",
       "      <th>positionOrder</th>\n",
       "      <th>points</th>\n",
       "      <th>laps</th>\n",
       "      <th>timetaken_in_millisec</th>\n",
       "      <th>rank</th>\n",
       "      <th>max_speed</th>\n",
       "      <th>statusId</th>\n",
       "      <th>round</th>\n",
       "      <th>circuitId</th>\n",
       "      <th>grand_prix</th>\n",
       "      <th>driverStandingsId</th>\n",
       "      <th>raceId_y</th>\n",
       "      <th>points_y</th>\n",
       "      <th>position</th>\n",
       "      <th>wins</th>\n",
       "      <th>result_driver_standing</th>\n",
       "      <th>age</th>\n",
       "    </tr>\n",
       "  </thead>\n",
       "  <tbody>\n",
       "    <tr>\n",
       "      <th>0</th>\n",
       "      <td>51</td>\n",
       "      <td>1</td>\n",
       "      <td>1</td>\n",
       "      <td>9.0</td>\n",
       "      <td>70</td>\n",
       "      <td>8003600.0</td>\n",
       "      <td>25.0</td>\n",
       "      <td>0.0</td>\n",
       "      <td>1</td>\n",
       "      <td>1</td>\n",
       "      <td>9</td>\n",
       "      <td>7</td>\n",
       "      <td>46079</td>\n",
       "      <td>792</td>\n",
       "      <td>3.33</td>\n",
       "      <td>3</td>\n",
       "      <td>0</td>\n",
       "      <td>922731975</td>\n",
       "      <td>44</td>\n",
       "    </tr>\n",
       "    <tr>\n",
       "      <th>1</th>\n",
       "      <td>51</td>\n",
       "      <td>1</td>\n",
       "      <td>1</td>\n",
       "      <td>9.0</td>\n",
       "      <td>70</td>\n",
       "      <td>8003600.0</td>\n",
       "      <td>25.0</td>\n",
       "      <td>0.0</td>\n",
       "      <td>1</td>\n",
       "      <td>1</td>\n",
       "      <td>9</td>\n",
       "      <td>7</td>\n",
       "      <td>46101</td>\n",
       "      <td>793</td>\n",
       "      <td>6.33</td>\n",
       "      <td>3</td>\n",
       "      <td>0</td>\n",
       "      <td>923172525</td>\n",
       "      <td>44</td>\n",
       "    </tr>\n",
       "    <tr>\n",
       "      <th>2</th>\n",
       "      <td>51</td>\n",
       "      <td>1</td>\n",
       "      <td>1</td>\n",
       "      <td>9.0</td>\n",
       "      <td>70</td>\n",
       "      <td>8003600.0</td>\n",
       "      <td>25.0</td>\n",
       "      <td>0.0</td>\n",
       "      <td>1</td>\n",
       "      <td>1</td>\n",
       "      <td>9</td>\n",
       "      <td>7</td>\n",
       "      <td>46134</td>\n",
       "      <td>794</td>\n",
       "      <td>6.33</td>\n",
       "      <td>4</td>\n",
       "      <td>0</td>\n",
       "      <td>923833350</td>\n",
       "      <td>44</td>\n",
       "    </tr>\n",
       "    <tr>\n",
       "      <th>3</th>\n",
       "      <td>51</td>\n",
       "      <td>1</td>\n",
       "      <td>1</td>\n",
       "      <td>9.0</td>\n",
       "      <td>70</td>\n",
       "      <td>8003600.0</td>\n",
       "      <td>25.0</td>\n",
       "      <td>0.0</td>\n",
       "      <td>1</td>\n",
       "      <td>1</td>\n",
       "      <td>9</td>\n",
       "      <td>7</td>\n",
       "      <td>46202</td>\n",
       "      <td>795</td>\n",
       "      <td>10.33</td>\n",
       "      <td>3</td>\n",
       "      <td>0</td>\n",
       "      <td>925195050</td>\n",
       "      <td>44</td>\n",
       "    </tr>\n",
       "    <tr>\n",
       "      <th>4</th>\n",
       "      <td>51</td>\n",
       "      <td>1</td>\n",
       "      <td>1</td>\n",
       "      <td>9.0</td>\n",
       "      <td>70</td>\n",
       "      <td>8003600.0</td>\n",
       "      <td>25.0</td>\n",
       "      <td>0.0</td>\n",
       "      <td>1</td>\n",
       "      <td>1</td>\n",
       "      <td>9</td>\n",
       "      <td>7</td>\n",
       "      <td>46271</td>\n",
       "      <td>796</td>\n",
       "      <td>10.33</td>\n",
       "      <td>4</td>\n",
       "      <td>0</td>\n",
       "      <td>926576775</td>\n",
       "      <td>44</td>\n",
       "    </tr>\n",
       "  </tbody>\n",
       "</table>\n",
       "</div>"
      ],
      "text/plain": [
       "   constructorId  grid  positionOrder  points  laps  timetaken_in_millisec  \\\n",
       "0             51     1              1     9.0    70              8003600.0   \n",
       "1             51     1              1     9.0    70              8003600.0   \n",
       "2             51     1              1     9.0    70              8003600.0   \n",
       "3             51     1              1     9.0    70              8003600.0   \n",
       "4             51     1              1     9.0    70              8003600.0   \n",
       "\n",
       "   rank  max_speed  statusId  round  circuitId  grand_prix  driverStandingsId  \\\n",
       "0  25.0        0.0         1      1          9           7              46079   \n",
       "1  25.0        0.0         1      1          9           7              46101   \n",
       "2  25.0        0.0         1      1          9           7              46134   \n",
       "3  25.0        0.0         1      1          9           7              46202   \n",
       "4  25.0        0.0         1      1          9           7              46271   \n",
       "\n",
       "   raceId_y  points_y  position  wins  result_driver_standing  age  \n",
       "0       792      3.33         3     0               922731975   44  \n",
       "1       793      6.33         3     0               923172525   44  \n",
       "2       794      6.33         4     0               923833350   44  \n",
       "3       795     10.33         3     0               925195050   44  \n",
       "4       796     10.33         4     0               926576775   44  "
      ]
     },
     "execution_count": 101,
     "metadata": {},
     "output_type": "execute_result"
    }
   ],
   "source": [
    "\n",
    "label_encoder = LabelEncoder()\n",
    "df['grand_prix'] = label_encoder.fit_transform(df['grand_prix'])\n",
    "\n",
    "df.head()\n"
   ]
  },
  {
   "cell_type": "code",
   "execution_count": 89,
   "id": "0061bcfe-4e10-4e41-8ce0-8c672c6ad4ee",
   "metadata": {},
   "outputs": [
    {
     "name": "stdout",
     "output_type": "stream",
     "text": [
      "Mean Absolute Error: 0.09859701318502322\n"
     ]
    }
   ],
   "source": [
    "#randomForest\n",
    "from sklearn.model_selection import train_test_split\n",
    "from sklearn.ensemble import RandomForestRegressor\n",
    "from sklearn.metrics import mean_absolute_error\n",
    "\n",
    "\n",
    "\n",
    "# Separate features (X) and target variable (y)\n",
    "X = df.drop(['position'], axis=1)  \n",
    "y = df['position']\n",
    "\n",
    "# Split the data into training and testing sets (80% train, 20% test)\n",
    "X_train, X_test, y_train, y_test = train_test_split(X, y, test_size=0.2, random_state=42)\n",
    "\n",
    "# Initialize the model (Random Forest Regressor in this example)\n",
    "model = RandomForestRegressor(random_state=42)\n",
    "\n",
    "# Train the model\n",
    "model.fit(X_train, y_train)\n",
    "\n",
    "# Predict on the test set\n",
    "y_pred = model.predict(X_test)\n",
    "\n",
    "# Evaluate the model (example using Mean Absolute Error)\n",
    "mae = mean_absolute_error(y_test, y_pred)\n",
    "\n",
    "print(f'Mean Absolute Error: {mae}')\n",
    "\n",
    "\n"
   ]
  },
  {
   "cell_type": "code",
   "execution_count": null,
   "id": "f05eaf10-4de6-4de8-9167-a43b3a815f57",
   "metadata": {},
   "outputs": [],
   "source": []
  },
  {
   "cell_type": "code",
   "execution_count": 159,
   "id": "42498681-5a0f-4cf4-a85d-9ceb5a863276",
   "metadata": {
    "scrolled": true
   },
   "outputs": [
    {
     "ename": "NameError",
     "evalue": "name 'y_test' is not defined",
     "output_type": "error",
     "traceback": [
      "\u001b[0;31m---------------------------------------------------------------------------\u001b[0m",
      "\u001b[0;31mNameError\u001b[0m                                 Traceback (most recent call last)",
      "Cell \u001b[0;32mIn[159], line 2\u001b[0m\n\u001b[1;32m      1\u001b[0m \u001b[38;5;28;01mfrom\u001b[39;00m \u001b[38;5;21;01msklearn\u001b[39;00m\u001b[38;5;21;01m.\u001b[39;00m\u001b[38;5;21;01mmetrics\u001b[39;00m \u001b[38;5;28;01mimport\u001b[39;00m r2_score\n\u001b[0;32m----> 2\u001b[0m r2 \u001b[38;5;241m=\u001b[39m r2_score(y_test, y_pred)\n\u001b[1;32m      3\u001b[0m \u001b[38;5;28mprint\u001b[39m(\u001b[38;5;124mf\u001b[39m\u001b[38;5;124m'\u001b[39m\u001b[38;5;124mR-squared: \u001b[39m\u001b[38;5;132;01m{\u001b[39;00mr2\u001b[38;5;132;01m}\u001b[39;00m\u001b[38;5;124m'\u001b[39m)\n",
      "\u001b[0;31mNameError\u001b[0m: name 'y_test' is not defined"
     ]
    }
   ],
   "source": [
    "from sklearn.metrics import r2_score\n",
    "r2 = r2_score(y_test, y_pred)\n",
    "print(f'R-squared: {r2}')\n"
   ]
  },
  {
   "cell_type": "code",
   "execution_count": 91,
   "id": "76f672c9-0007-4ac0-8585-a012b9d2171d",
   "metadata": {},
   "outputs": [],
   "source": [
    "#converting y_pred to dataset\n",
    "y_pred_df = pd.DataFrame(y_pred)"
   ]
  },
  {
   "cell_type": "code",
   "execution_count": 92,
   "id": "4e06b660-d9d3-46a8-8028-4a6332a1ac6f",
   "metadata": {},
   "outputs": [],
   "source": [
    "y_pred_roundedOff = y_pred_df.round().astype(int)"
   ]
  },
  {
   "cell_type": "code",
   "execution_count": 93,
   "id": "77c9b9f0-ee39-4c35-8097-1a824e5e8249",
   "metadata": {},
   "outputs": [
    {
     "name": "stdout",
     "output_type": "stream",
     "text": [
      "0.9937617857681528\n",
      "Mean Absolute Error: 0.08864158750293717\n"
     ]
    }
   ],
   "source": [
    "r2v = r2_score(y_test, y_pred_roundedOff)\n",
    "print(r2)\n",
    "maev = mean_absolute_error(y_test, y_pred_roundedOff)\n",
    "print(f'Mean Absolute Error: {maev}')"
   ]
  },
  {
   "cell_type": "code",
   "execution_count": null,
   "id": "2b04389b-a2b2-4b2b-9536-04f483c6688d",
   "metadata": {},
   "outputs": [],
   "source": []
  },
  {
   "cell_type": "code",
   "execution_count": null,
   "id": "46879fa8-8d15-46dd-ad42-746a1d95e1ca",
   "metadata": {},
   "outputs": [],
   "source": []
  },
  {
   "cell_type": "code",
   "execution_count": null,
   "id": "7ec1e93e-45ed-45c9-ac83-4c742e5b9d72",
   "metadata": {},
   "outputs": [],
   "source": []
  },
  {
   "cell_type": "code",
   "execution_count": 94,
   "id": "88c2dbca-8493-488a-b569-70689a9c3120",
   "metadata": {},
   "outputs": [],
   "source": [
    "Vdf = pd.read_csv('processed_validation.csv',low_memory=False)"
   ]
  },
  {
   "cell_type": "code",
   "execution_count": 127,
   "id": "a078be28-bff0-47d9-90c2-e060f23ff509",
   "metadata": {},
   "outputs": [
    {
     "name": "stdout",
     "output_type": "stream",
     "text": [
      "Mean Absolute Error: 0.09859701318502322\n",
      "R-squared: 0.9937617857681528\n"
     ]
    }
   ],
   "source": [
    "Xv = Vdf.drop(['position'], axis=1)  \n",
    "yv_actual = Vdf['position']\n",
    "\n",
    "# Predict on the test set\n",
    "yv_pred = model.predict(Xv)\n",
    "\n",
    "df_rounded = df.round().astype(int)\n",
    "maev = mean_absolute_error(yv_actual, yv_pred)\n",
    "\n",
    "print(f'Mean Absolute Error: {mae}')\n",
    "r2v = r2_score(yv_actual, yv_pred)\n",
    "print(f'R-squared: {r2}')"
   ]
  },
  {
   "cell_type": "code",
   "execution_count": 96,
   "id": "f28ee02c-5149-4031-8115-1223eee9c369",
   "metadata": {},
   "outputs": [
    {
     "data": {
      "text/plain": [
       "(353762, 1)"
      ]
     },
     "execution_count": 96,
     "metadata": {},
     "output_type": "execute_result"
    }
   ],
   "source": [
    "#converting yv_pred to dataset\n",
    "yv_pred = pd.DataFrame(yv_pred)\n",
    "yv_pred.shape"
   ]
  },
  {
   "cell_type": "code",
   "execution_count": 97,
   "id": "eafed127-eb3b-417f-a48f-84f5df232f92",
   "metadata": {},
   "outputs": [],
   "source": [
    "yv_pred_roundedOff = yv_pred.round().astype(int)"
   ]
  },
  {
   "cell_type": "code",
   "execution_count": 98,
   "id": "c6c80e7f-0350-473c-bdec-acbb2ea8c593",
   "metadata": {},
   "outputs": [
    {
     "name": "stdout",
     "output_type": "stream",
     "text": [
      "0.8965515826244983\n"
     ]
    }
   ],
   "source": [
    "r2v = r2_score(yv_actual, yv_pred_roundedOff)\n",
    "print(r2v)"
   ]
  },
  {
   "cell_type": "code",
   "execution_count": 99,
   "id": "d9b9a87c-59c6-47a2-888e-966f42aac3ae",
   "metadata": {},
   "outputs": [
    {
     "name": "stdout",
     "output_type": "stream",
     "text": [
      "Mean Absolute Error: 0.8561264352870008\n"
     ]
    }
   ],
   "source": [
    "maev = mean_absolute_error(yv_actual, yv_pred_roundedOff)\n",
    "print(f'Mean Absolute Error: {maev}')"
   ]
  },
  {
   "cell_type": "code",
   "execution_count": null,
   "id": "d6526c2d-6fca-434e-b901-642e17c4f6ca",
   "metadata": {},
   "outputs": [],
   "source": []
  },
  {
   "cell_type": "markdown",
   "id": "7ee96e24-be69-47cf-996d-4e43d8056b9f",
   "metadata": {},
   "source": [
    "CHECKIng for testing dataset"
   ]
  },
  {
   "cell_type": "code",
   "execution_count": 102,
   "id": "3dde14b6-294b-4c46-aaef-51ad3cbdf3f7",
   "metadata": {},
   "outputs": [],
   "source": [
    "Tdf = pd.read_csv('processed_test_up.csv',low_memory=False)"
   ]
  },
  {
   "cell_type": "code",
   "execution_count": 104,
   "id": "4c19af00-adee-4d8d-8ab7-d8a452109c94",
   "metadata": {},
   "outputs": [],
   "source": [
    "Xt = Tdf\n",
    "# Predict on the test set\n",
    "yt_pred = model.predict(Xt)\n",
    "\n"
   ]
  },
  {
   "cell_type": "code",
   "execution_count": 106,
   "id": "71dd5475-ce62-4b42-a103-aa7ce77f0639",
   "metadata": {},
   "outputs": [],
   "source": [
    "yt_pred = pd.DataFrame(yt_pred)"
   ]
  },
  {
   "cell_type": "code",
   "execution_count": 108,
   "id": "7a3b4787-5648-49dc-bad1-959fabdfddf7",
   "metadata": {},
   "outputs": [
    {
     "data": {
      "text/html": [
       "<div>\n",
       "<style scoped>\n",
       "    .dataframe tbody tr th:only-of-type {\n",
       "        vertical-align: middle;\n",
       "    }\n",
       "\n",
       "    .dataframe tbody tr th {\n",
       "        vertical-align: top;\n",
       "    }\n",
       "\n",
       "    .dataframe thead th {\n",
       "        text-align: right;\n",
       "    }\n",
       "</style>\n",
       "<table border=\"1\" class=\"dataframe\">\n",
       "  <thead>\n",
       "    <tr style=\"text-align: right;\">\n",
       "      <th></th>\n",
       "      <th>0</th>\n",
       "    </tr>\n",
       "  </thead>\n",
       "  <tbody>\n",
       "    <tr>\n",
       "      <th>0</th>\n",
       "      <td>5</td>\n",
       "    </tr>\n",
       "    <tr>\n",
       "      <th>1</th>\n",
       "      <td>4</td>\n",
       "    </tr>\n",
       "    <tr>\n",
       "      <th>2</th>\n",
       "      <td>6</td>\n",
       "    </tr>\n",
       "    <tr>\n",
       "      <th>3</th>\n",
       "      <td>5</td>\n",
       "    </tr>\n",
       "    <tr>\n",
       "      <th>4</th>\n",
       "      <td>6</td>\n",
       "    </tr>\n",
       "  </tbody>\n",
       "</table>\n",
       "</div>"
      ],
      "text/plain": [
       "   0\n",
       "0  5\n",
       "1  4\n",
       "2  6\n",
       "3  5\n",
       "4  6"
      ]
     },
     "execution_count": 108,
     "metadata": {},
     "output_type": "execute_result"
    }
   ],
   "source": [
    "yt_pred_roundedOff = yt_pred.round().astype(int)\n",
    "yt_pred_roundedOff.head()"
   ]
  },
  {
   "cell_type": "code",
   "execution_count": 110,
   "id": "cc236b03-00f9-4fb7-851a-37075f5530bb",
   "metadata": {},
   "outputs": [],
   "source": [
    "file_path = 'yt_predicted_RF.csv'\n",
    "\n",
    "# Save DataFrame to CSV\n",
    "yt_pred_roundedOff.to_csv(file_path, index=False)    ###output__1####"
   ]
  },
  {
   "cell_type": "code",
   "execution_count": 105,
   "id": "d41dc440-50ea-4dfa-a1a4-f1380b11b83d",
   "metadata": {},
   "outputs": [
    {
     "data": {
      "text/html": [
       "<style>#sk-container-id-1 {color: black;}#sk-container-id-1 pre{padding: 0;}#sk-container-id-1 div.sk-toggleable {background-color: white;}#sk-container-id-1 label.sk-toggleable__label {cursor: pointer;display: block;width: 100%;margin-bottom: 0;padding: 0.3em;box-sizing: border-box;text-align: center;}#sk-container-id-1 label.sk-toggleable__label-arrow:before {content: \"▸\";float: left;margin-right: 0.25em;color: #696969;}#sk-container-id-1 label.sk-toggleable__label-arrow:hover:before {color: black;}#sk-container-id-1 div.sk-estimator:hover label.sk-toggleable__label-arrow:before {color: black;}#sk-container-id-1 div.sk-toggleable__content {max-height: 0;max-width: 0;overflow: hidden;text-align: left;background-color: #f0f8ff;}#sk-container-id-1 div.sk-toggleable__content pre {margin: 0.2em;color: black;border-radius: 0.25em;background-color: #f0f8ff;}#sk-container-id-1 input.sk-toggleable__control:checked~div.sk-toggleable__content {max-height: 200px;max-width: 100%;overflow: auto;}#sk-container-id-1 input.sk-toggleable__control:checked~label.sk-toggleable__label-arrow:before {content: \"▾\";}#sk-container-id-1 div.sk-estimator input.sk-toggleable__control:checked~label.sk-toggleable__label {background-color: #d4ebff;}#sk-container-id-1 div.sk-label input.sk-toggleable__control:checked~label.sk-toggleable__label {background-color: #d4ebff;}#sk-container-id-1 input.sk-hidden--visually {border: 0;clip: rect(1px 1px 1px 1px);clip: rect(1px, 1px, 1px, 1px);height: 1px;margin: -1px;overflow: hidden;padding: 0;position: absolute;width: 1px;}#sk-container-id-1 div.sk-estimator {font-family: monospace;background-color: #f0f8ff;border: 1px dotted black;border-radius: 0.25em;box-sizing: border-box;margin-bottom: 0.5em;}#sk-container-id-1 div.sk-estimator:hover {background-color: #d4ebff;}#sk-container-id-1 div.sk-parallel-item::after {content: \"\";width: 100%;border-bottom: 1px solid gray;flex-grow: 1;}#sk-container-id-1 div.sk-label:hover label.sk-toggleable__label {background-color: #d4ebff;}#sk-container-id-1 div.sk-serial::before {content: \"\";position: absolute;border-left: 1px solid gray;box-sizing: border-box;top: 0;bottom: 0;left: 50%;z-index: 0;}#sk-container-id-1 div.sk-serial {display: flex;flex-direction: column;align-items: center;background-color: white;padding-right: 0.2em;padding-left: 0.2em;position: relative;}#sk-container-id-1 div.sk-item {position: relative;z-index: 1;}#sk-container-id-1 div.sk-parallel {display: flex;align-items: stretch;justify-content: center;background-color: white;position: relative;}#sk-container-id-1 div.sk-item::before, #sk-container-id-1 div.sk-parallel-item::before {content: \"\";position: absolute;border-left: 1px solid gray;box-sizing: border-box;top: 0;bottom: 0;left: 50%;z-index: -1;}#sk-container-id-1 div.sk-parallel-item {display: flex;flex-direction: column;z-index: 1;position: relative;background-color: white;}#sk-container-id-1 div.sk-parallel-item:first-child::after {align-self: flex-end;width: 50%;}#sk-container-id-1 div.sk-parallel-item:last-child::after {align-self: flex-start;width: 50%;}#sk-container-id-1 div.sk-parallel-item:only-child::after {width: 0;}#sk-container-id-1 div.sk-dashed-wrapped {border: 1px dashed gray;margin: 0 0.4em 0.5em 0.4em;box-sizing: border-box;padding-bottom: 0.4em;background-color: white;}#sk-container-id-1 div.sk-label label {font-family: monospace;font-weight: bold;display: inline-block;line-height: 1.2em;}#sk-container-id-1 div.sk-label-container {text-align: center;}#sk-container-id-1 div.sk-container {/* jupyter's `normalize.less` sets `[hidden] { display: none; }` but bootstrap.min.css set `[hidden] { display: none !important; }` so we also need the `!important` here to be able to override the default hidden behavior on the sphinx rendered scikit-learn.org. See: https://github.com/scikit-learn/scikit-learn/issues/21755 */display: inline-block !important;position: relative;}#sk-container-id-1 div.sk-text-repr-fallback {display: none;}</style><div id=\"sk-container-id-1\" class=\"sk-top-container\"><div class=\"sk-text-repr-fallback\"><pre>RandomForestRegressor(random_state=42)</pre><b>In a Jupyter environment, please rerun this cell to show the HTML representation or trust the notebook. <br />On GitHub, the HTML representation is unable to render, please try loading this page with nbviewer.org.</b></div><div class=\"sk-container\" hidden><div class=\"sk-item\"><div class=\"sk-estimator sk-toggleable\"><input class=\"sk-toggleable__control sk-hidden--visually\" id=\"sk-estimator-id-1\" type=\"checkbox\" checked><label for=\"sk-estimator-id-1\" class=\"sk-toggleable__label sk-toggleable__label-arrow\">RandomForestRegressor</label><div class=\"sk-toggleable__content\"><pre>RandomForestRegressor(random_state=42)</pre></div></div></div></div></div>"
      ],
      "text/plain": [
       "RandomForestRegressor(random_state=42)"
      ]
     },
     "execution_count": 105,
     "metadata": {},
     "output_type": "execute_result"
    }
   ],
   "source": [
    "from sklearn.model_selection import train_test_split\n",
    "from sklearn.ensemble import RandomForestRegressor\n",
    "from sklearn.metrics import mean_absolute_error\n",
    "\n",
    "# Separate features (X) and target variable (y)\n",
    "X = df.drop(['position'], axis=1)  \n",
    "y = df['position']\n",
    "\n",
    "# Initialize the model (Random Forest Regressor in this example)\n",
    "model = RandomForestRegressor(random_state=42)\n",
    "\n",
    "# Train the model\n",
    "model.fit(X, y)\n",
    "\n",
    "# Predict on the test set\n",
    "#y_pred = model.predict(X_test)\n",
    "\n",
    "# Evaluate the model (example using Mean Absolute Error)\n",
    "#mae = mean_absolute_error(y_test, y_pred)\n",
    "\n",
    "#print(f'Mean Absolute Error: {mae}')"
   ]
  },
  {
   "cell_type": "code",
   "execution_count": 153,
   "id": "e0ecd5a9-977a-43ff-a844-60e1cbc67e3e",
   "metadata": {},
   "outputs": [],
   "source": [
    "Vdf = pd.read_csv('processed_valid_up.csv',low_memory=False)"
   ]
  },
  {
   "cell_type": "code",
   "execution_count": 163,
   "id": "230dbd81-afaf-4641-a161-0eac32cb5af9",
   "metadata": {},
   "outputs": [
    {
     "name": "stdout",
     "output_type": "stream",
     "text": [
      "Mean Absolute Error: 0.8644799611037932\n",
      "R-squared: 0.8961949531490666\n"
     ]
    }
   ],
   "source": [
    "from sklearn.metrics import r2_score\n",
    "\n",
    "Xv = Vdf.drop(['position'], axis=1)  \n",
    "yv_actual = Vdf['position']\n",
    "\n",
    "# Predict on the test set\n",
    "yv_pred = model.predict(Xv)\n",
    "\n",
    "df_rounded = df.round().astype(int)\n",
    "maev = mean_absolute_error(yv_actual, yv_pred)\n",
    "\n",
    "print(f'Mean Absolute Error: {maev}')\n",
    "r2v = r2_score(yv_actual, yv_pred)\n",
    "print(f'R-squared: {r2v}')"
   ]
  },
  {
   "cell_type": "code",
   "execution_count": 165,
   "id": "85f6fe07-8a07-4470-84cd-e7d401383e1c",
   "metadata": {},
   "outputs": [
    {
     "data": {
      "text/plain": [
       "(353762, 1)"
      ]
     },
     "execution_count": 165,
     "metadata": {},
     "output_type": "execute_result"
    }
   ],
   "source": [
    "yv_pred = pd.DataFrame(yv_pred)\n",
    "yv_pred.shape"
   ]
  },
  {
   "cell_type": "code",
   "execution_count": 167,
   "id": "34f93ced-33ec-42de-8335-0f391b764abc",
   "metadata": {},
   "outputs": [],
   "source": [
    "yv_pred_roundedOff_1 = yv_pred.round().astype(int)"
   ]
  },
  {
   "cell_type": "code",
   "execution_count": 169,
   "id": "ce6248b3-9a85-4646-bca5-8e206c96c47a",
   "metadata": {},
   "outputs": [
    {
     "name": "stdout",
     "output_type": "stream",
     "text": [
      "0.8948700594619747\n"
     ]
    }
   ],
   "source": [
    "r2v = r2_score(yv_actual, yv_pred_roundedOff_1)\n",
    "print(r2v)\n",
    "#0.8965515826244983"
   ]
  },
  {
   "cell_type": "code",
   "execution_count": 171,
   "id": "e0540b25-dbdb-400e-9841-40346b38ba25",
   "metadata": {},
   "outputs": [
    {
     "name": "stdout",
     "output_type": "stream",
     "text": [
      "Mean Absolute Error: 0.8460914400076888\n"
     ]
    }
   ],
   "source": [
    "maev = mean_absolute_error(yv_actual, yv_pred_roundedOff_1)\n",
    "print(f'Mean Absolute Error: {maev}')"
   ]
  },
  {
   "cell_type": "code",
   "execution_count": 173,
   "id": "59f830cd-1ca0-4338-81fe-e6ce38cacee0",
   "metadata": {},
   "outputs": [],
   "source": [
    "Tdf = pd.read_csv('processed_test_up.csv',low_memory=False)\n"
   ]
  },
  {
   "cell_type": "code",
   "execution_count": 175,
   "id": "da80c2bf-fc21-47e1-82a7-e569e6179571",
   "metadata": {},
   "outputs": [],
   "source": [
    "Xt = Tdf\n",
    "# Predict on the test set\n",
    "yt_pred = model.predict(Xt)\n",
    "\n"
   ]
  },
  {
   "cell_type": "code",
   "execution_count": 176,
   "id": "2e640d68-b919-4cea-8921-24b5c2dea20e",
   "metadata": {},
   "outputs": [
    {
     "data": {
      "text/html": [
       "<div>\n",
       "<style scoped>\n",
       "    .dataframe tbody tr th:only-of-type {\n",
       "        vertical-align: middle;\n",
       "    }\n",
       "\n",
       "    .dataframe tbody tr th {\n",
       "        vertical-align: top;\n",
       "    }\n",
       "\n",
       "    .dataframe thead th {\n",
       "        text-align: right;\n",
       "    }\n",
       "</style>\n",
       "<table border=\"1\" class=\"dataframe\">\n",
       "  <thead>\n",
       "    <tr style=\"text-align: right;\">\n",
       "      <th></th>\n",
       "      <th>0</th>\n",
       "    </tr>\n",
       "  </thead>\n",
       "  <tbody>\n",
       "    <tr>\n",
       "      <th>0</th>\n",
       "      <td>5.00</td>\n",
       "    </tr>\n",
       "    <tr>\n",
       "      <th>1</th>\n",
       "      <td>4.00</td>\n",
       "    </tr>\n",
       "    <tr>\n",
       "      <th>2</th>\n",
       "      <td>6.00</td>\n",
       "    </tr>\n",
       "    <tr>\n",
       "      <th>3</th>\n",
       "      <td>5.00</td>\n",
       "    </tr>\n",
       "    <tr>\n",
       "      <th>4</th>\n",
       "      <td>5.99</td>\n",
       "    </tr>\n",
       "  </tbody>\n",
       "</table>\n",
       "</div>"
      ],
      "text/plain": [
       "      0\n",
       "0  5.00\n",
       "1  4.00\n",
       "2  6.00\n",
       "3  5.00\n",
       "4  5.99"
      ]
     },
     "execution_count": 176,
     "metadata": {},
     "output_type": "execute_result"
    }
   ],
   "source": [
    "yt_pred = pd.DataFrame(yt_pred)\n",
    "yt_pred.head()"
   ]
  },
  {
   "cell_type": "code",
   "execution_count": 179,
   "id": "1d6de1c9-ecb1-4595-9bb5-61915d9c0690",
   "metadata": {},
   "outputs": [
    {
     "data": {
      "text/plain": [
       "(352928, 1)"
      ]
     },
     "execution_count": 179,
     "metadata": {},
     "output_type": "execute_result"
    }
   ],
   "source": [
    "yt_pred_roundedOff_1 = yt_pred.round().astype(int)\n",
    "yt_pred_roundedOff_1.shape"
   ]
  },
  {
   "cell_type": "code",
   "execution_count": 181,
   "id": "21f7b941-36e9-4617-8278-aea7b27746c1",
   "metadata": {},
   "outputs": [],
   "source": [
    "file_path = 'yt_predicted_RF_up.csv'\n",
    "\n",
    "# Save DataFrame to CSV\n",
    "#yt_pred_roundedOff_1.to_csv(file_path, index=False)"
   ]
  },
  {
   "cell_type": "code",
   "execution_count": 183,
   "id": "44502f2e-49a4-49e9-b63f-23b459742f47",
   "metadata": {},
   "outputs": [
    {
     "ename": "NameError",
     "evalue": "name 'yt_pred_roundedOff' is not defined",
     "output_type": "error",
     "traceback": [
      "\u001b[0;31m---------------------------------------------------------------------------\u001b[0m",
      "\u001b[0;31mNameError\u001b[0m                                 Traceback (most recent call last)",
      "Cell \u001b[0;32mIn[183], line 1\u001b[0m\n\u001b[0;32m----> 1\u001b[0m r \u001b[38;5;241m=\u001b[39m r2_score(yt_pred_roundedOff, yt_pred_roundedOff_1)\n\u001b[1;32m      2\u001b[0m \u001b[38;5;28mprint\u001b[39m(r)\n",
      "\u001b[0;31mNameError\u001b[0m: name 'yt_pred_roundedOff' is not defined"
     ]
    }
   ],
   "source": [
    "r = r2_score(yt_pred_roundedOff, yt_pred_roundedOff_1)\n",
    "print(r)"
   ]
  },
  {
   "cell_type": "code",
   "execution_count": 151,
   "id": "1afccbf0-7fdf-4331-9252-a89f8d209c24",
   "metadata": {},
   "outputs": [
    {
     "name": "stdout",
     "output_type": "stream",
     "text": [
      "<class 'pandas.core.frame.DataFrame'>\n",
      "RangeIndex: 352928 entries, 0 to 352927\n",
      "Data columns (total 18 columns):\n",
      " #   Column                  Non-Null Count   Dtype  \n",
      "---  ------                  --------------   -----  \n",
      " 0   constructorId           352928 non-null  int64  \n",
      " 1   grid                    352928 non-null  int64  \n",
      " 2   positionOrder           352928 non-null  int64  \n",
      " 3   points                  352928 non-null  float64\n",
      " 4   laps                    352928 non-null  int64  \n",
      " 5   timetaken_in_millisec   352928 non-null  float64\n",
      " 6   rank                    352928 non-null  int64  \n",
      " 7   max_speed               352928 non-null  float64\n",
      " 8   statusId                352928 non-null  int64  \n",
      " 9   round                   352928 non-null  int64  \n",
      " 10  circuitId               352928 non-null  int64  \n",
      " 11  grand_prix              352928 non-null  int64  \n",
      " 12  driverStandingsId       352928 non-null  int64  \n",
      " 13  raceId_y                352928 non-null  int64  \n",
      " 14  points_y                352928 non-null  float64\n",
      " 15  wins                    352928 non-null  int64  \n",
      " 16  result_driver_standing  352928 non-null  int64  \n",
      " 17  age                     352928 non-null  int64  \n",
      "dtypes: float64(4), int64(14)\n",
      "memory usage: 48.5 MB\n"
     ]
    }
   ],
   "source": [
    "Xt.info()"
   ]
  },
  {
   "cell_type": "code",
   "execution_count": 186,
   "id": "a8a5d6e0-937b-47ab-a8fb-c5d35446994e",
   "metadata": {},
   "outputs": [],
   "source": [
    "import pandas as pd\n",
    "import numpy as np\n",
    "\n",
    "yt_pred_up= pd.read_csv('yt_predicted_RF_up.csv',low_memory=False)"
   ]
  },
  {
   "cell_type": "code",
   "execution_count": 188,
   "id": "8f9191f4-59c6-4d27-9747-daadd4fa23c5",
   "metadata": {},
   "outputs": [],
   "source": [
    "Tdf = pd.read_csv('processed_test_up.csv',low_memory=False)"
   ]
  },
  {
   "cell_type": "code",
   "execution_count": 190,
   "id": "6fad0125-a0d9-4edc-85b0-171e922dd9fb",
   "metadata": {},
   "outputs": [
    {
     "data": {
      "text/html": [
       "<div>\n",
       "<style scoped>\n",
       "    .dataframe tbody tr th:only-of-type {\n",
       "        vertical-align: middle;\n",
       "    }\n",
       "\n",
       "    .dataframe tbody tr th {\n",
       "        vertical-align: top;\n",
       "    }\n",
       "\n",
       "    .dataframe thead th {\n",
       "        text-align: right;\n",
       "    }\n",
       "</style>\n",
       "<table border=\"1\" class=\"dataframe\">\n",
       "  <thead>\n",
       "    <tr style=\"text-align: right;\">\n",
       "      <th></th>\n",
       "      <th>0</th>\n",
       "    </tr>\n",
       "  </thead>\n",
       "  <tbody>\n",
       "    <tr>\n",
       "      <th>0</th>\n",
       "      <td>5</td>\n",
       "    </tr>\n",
       "    <tr>\n",
       "      <th>1</th>\n",
       "      <td>4</td>\n",
       "    </tr>\n",
       "    <tr>\n",
       "      <th>2</th>\n",
       "      <td>6</td>\n",
       "    </tr>\n",
       "    <tr>\n",
       "      <th>3</th>\n",
       "      <td>5</td>\n",
       "    </tr>\n",
       "    <tr>\n",
       "      <th>4</th>\n",
       "      <td>6</td>\n",
       "    </tr>\n",
       "  </tbody>\n",
       "</table>\n",
       "</div>"
      ],
      "text/plain": [
       "   0\n",
       "0  5\n",
       "1  4\n",
       "2  6\n",
       "3  5\n",
       "4  6"
      ]
     },
     "execution_count": 190,
     "metadata": {},
     "output_type": "execute_result"
    }
   ],
   "source": [
    "yt_pred_up.head()"
   ]
  },
  {
   "cell_type": "code",
   "execution_count": null,
   "id": "1f7d626c-f01c-45f5-b31f-e81ba0b70124",
   "metadata": {},
   "outputs": [],
   "source": [
    "from sklearn.ensemble import RandomForestRegressor\n",
    "from sklearn.model_selection import GridSearchCV\n",
    "from sklearn.metrics import mean_absolute_error\n",
    "\n",
    "# Define parameter grid\n",
    "param_grid = {\n",
    "    'n_estimators': [100, 200, 300],\n",
    "    'max_depth': [10, 20, 30],\n",
    "    'min_samples_split': [2, 5, 10]\n",
    "}\n",
    "\n",
    "grid_search = GridSearchCV(estimator=model, param_grid=param_grid, cv=5, scoring='neg_mean_absolute_error', verbose=3)\n",
    "\n",
    "# Fit Grid Search\n",
    "grid_search.fit(X, y)\n",
    "\n",
    "# Get best parameters\n",
    "best_params = grid_search.best_params_\n",
    "print(f'Best parameters found: {best_params}')\n",
    "\n",
    "# Train the model with the best parameters\n",
    "best_rf_model = RandomForestRegressor(**best_params, random_state=42)\n",
    "best_rf_model.fit(X, y)\n",
    "\n",
    "# Validate the model on validation data\n",
    "y_val_pred = best_rf_model.predict(X_val)\n",
    "mae = mean_absolute_error(y_val, y_val_pred)\n",
    "print(f'Improved Mean Absolute Error on validation set: {mae}')\n"
   ]
  },
  {
   "cell_type": "code",
   "execution_count": null,
   "id": "db144923-cb4d-467b-970a-a3b44d333f87",
   "metadata": {},
   "outputs": [],
   "source": [
    "\n",
    "\n"
   ]
  }
 ],
 "metadata": {
  "kernelspec": {
   "display_name": "Python 3 (ipykernel)",
   "language": "python",
   "name": "python3"
  },
  "language_info": {
   "codemirror_mode": {
    "name": "ipython",
    "version": 3
   },
   "file_extension": ".py",
   "mimetype": "text/x-python",
   "name": "python",
   "nbconvert_exporter": "python",
   "pygments_lexer": "ipython3",
   "version": "3.11.5"
  }
 },
 "nbformat": 4,
 "nbformat_minor": 5
}
